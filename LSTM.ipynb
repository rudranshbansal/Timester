{
 "cells": [
  {
   "cell_type": "code",
   "execution_count": 1,
   "id": "a8073ac0",
   "metadata": {},
   "outputs": [
    {
     "name": "stdout",
     "output_type": "stream",
     "text": [
      "Requirement already satisfied: pandas-datareader in d:\\annaconda\\lib\\site-packages (0.10.0)\n",
      "Requirement already satisfied: lxml in d:\\annaconda\\lib\\site-packages (from pandas-datareader) (4.6.3)\n",
      "Requirement already satisfied: pandas>=0.23 in d:\\annaconda\\lib\\site-packages (from pandas-datareader) (1.3.4)\n",
      "Requirement already satisfied: requests>=2.19.0 in d:\\annaconda\\lib\\site-packages (from pandas-datareader) (2.26.0)\n",
      "Requirement already satisfied: numpy>=1.17.3 in d:\\annaconda\\lib\\site-packages (from pandas>=0.23->pandas-datareader) (1.22.4)\n",
      "Requirement already satisfied: python-dateutil>=2.7.3 in d:\\annaconda\\lib\\site-packages (from pandas>=0.23->pandas-datareader) (2.8.2)\n",
      "Requirement already satisfied: pytz>=2017.3 in d:\\annaconda\\lib\\site-packages (from pandas>=0.23->pandas-datareader) (2021.3)\n",
      "Requirement already satisfied: six>=1.5 in d:\\annaconda\\lib\\site-packages (from python-dateutil>=2.7.3->pandas>=0.23->pandas-datareader) (1.16.0)\n",
      "Requirement already satisfied: idna<4,>=2.5 in d:\\annaconda\\lib\\site-packages (from requests>=2.19.0->pandas-datareader) (3.2)\n",
      "Requirement already satisfied: urllib3<1.27,>=1.21.1 in d:\\annaconda\\lib\\site-packages (from requests>=2.19.0->pandas-datareader) (1.26.7)\n",
      "Requirement already satisfied: certifi>=2017.4.17 in d:\\annaconda\\lib\\site-packages (from requests>=2.19.0->pandas-datareader) (2021.10.8)\n",
      "Requirement already satisfied: charset-normalizer~=2.0.0 in d:\\annaconda\\lib\\site-packages (from requests>=2.19.0->pandas-datareader) (2.0.4)\n"
     ]
    }
   ],
   "source": [
    "!pip install pandas-datareader"
   ]
  },
  {
   "cell_type": "code",
   "execution_count": 2,
   "id": "011b77ed",
   "metadata": {},
   "outputs": [],
   "source": [
    "import pandas_datareader as pdr\n",
    "import pandas as pd\n",
    "from datetime import datetime"
   ]
  },
  {
   "cell_type": "code",
   "execution_count": 3,
   "id": "c8edc009",
   "metadata": {},
   "outputs": [
    {
     "name": "stdout",
     "output_type": "stream",
     "text": [
      "Enter the nasadq index: \n",
      "TSLA\n"
     ]
    }
   ],
   "source": [
    "stock = input(\"Enter the nasadq index: \\n\")\n",
    "df = pdr.get_data_yahoo(stock)"
   ]
  },
  {
   "cell_type": "code",
   "execution_count": 4,
   "id": "ffdd9852",
   "metadata": {},
   "outputs": [
    {
     "data": {
      "text/html": [
       "<div>\n",
       "<style scoped>\n",
       "    .dataframe tbody tr th:only-of-type {\n",
       "        vertical-align: middle;\n",
       "    }\n",
       "\n",
       "    .dataframe tbody tr th {\n",
       "        vertical-align: top;\n",
       "    }\n",
       "\n",
       "    .dataframe thead th {\n",
       "        text-align: right;\n",
       "    }\n",
       "</style>\n",
       "<table border=\"1\" class=\"dataframe\">\n",
       "  <thead>\n",
       "    <tr style=\"text-align: right;\">\n",
       "      <th></th>\n",
       "      <th>High</th>\n",
       "      <th>Low</th>\n",
       "      <th>Open</th>\n",
       "      <th>Close</th>\n",
       "      <th>Volume</th>\n",
       "      <th>Adj Close</th>\n",
       "    </tr>\n",
       "    <tr>\n",
       "      <th>Date</th>\n",
       "      <th></th>\n",
       "      <th></th>\n",
       "      <th></th>\n",
       "      <th></th>\n",
       "      <th></th>\n",
       "      <th></th>\n",
       "    </tr>\n",
       "  </thead>\n",
       "  <tbody>\n",
       "    <tr>\n",
       "      <th>2017-11-14</th>\n",
       "      <td>21.090000</td>\n",
       "      <td>20.459999</td>\n",
       "      <td>21.000000</td>\n",
       "      <td>20.580000</td>\n",
       "      <td>85141500.0</td>\n",
       "      <td>20.580000</td>\n",
       "    </tr>\n",
       "    <tr>\n",
       "      <th>2017-11-15</th>\n",
       "      <td>20.832666</td>\n",
       "      <td>20.100000</td>\n",
       "      <td>20.400667</td>\n",
       "      <td>20.753332</td>\n",
       "      <td>89680500.0</td>\n",
       "      <td>20.753332</td>\n",
       "    </tr>\n",
       "    <tr>\n",
       "      <th>2017-11-16</th>\n",
       "      <td>21.209333</td>\n",
       "      <td>20.753332</td>\n",
       "      <td>20.932667</td>\n",
       "      <td>20.833332</td>\n",
       "      <td>87331500.0</td>\n",
       "      <td>20.833332</td>\n",
       "    </tr>\n",
       "    <tr>\n",
       "      <th>2017-11-17</th>\n",
       "      <td>21.778000</td>\n",
       "      <td>20.876667</td>\n",
       "      <td>21.711332</td>\n",
       "      <td>21.003332</td>\n",
       "      <td>206026500.0</td>\n",
       "      <td>21.003332</td>\n",
       "    </tr>\n",
       "    <tr>\n",
       "      <th>2017-11-20</th>\n",
       "      <td>21.033333</td>\n",
       "      <td>20.316668</td>\n",
       "      <td>20.919333</td>\n",
       "      <td>20.582666</td>\n",
       "      <td>123715500.0</td>\n",
       "      <td>20.582666</td>\n",
       "    </tr>\n",
       "  </tbody>\n",
       "</table>\n",
       "</div>"
      ],
      "text/plain": [
       "                 High        Low       Open      Close       Volume  Adj Close\n",
       "Date                                                                          \n",
       "2017-11-14  21.090000  20.459999  21.000000  20.580000   85141500.0  20.580000\n",
       "2017-11-15  20.832666  20.100000  20.400667  20.753332   89680500.0  20.753332\n",
       "2017-11-16  21.209333  20.753332  20.932667  20.833332   87331500.0  20.833332\n",
       "2017-11-17  21.778000  20.876667  21.711332  21.003332  206026500.0  21.003332\n",
       "2017-11-20  21.033333  20.316668  20.919333  20.582666  123715500.0  20.582666"
      ]
     },
     "execution_count": 4,
     "metadata": {},
     "output_type": "execute_result"
    }
   ],
   "source": [
    "df.head()"
   ]
  },
  {
   "cell_type": "code",
   "execution_count": 5,
   "id": "15dc390e",
   "metadata": {},
   "outputs": [],
   "source": [
    "import matplotlib.pyplot as plt\n",
    "\n"
   ]
  },
  {
   "cell_type": "code",
   "execution_count": 6,
   "id": "2f693c30",
   "metadata": {},
   "outputs": [
    {
     "data": {
      "text/plain": [
       "<AxesSubplot:xlabel='Date'>"
      ]
     },
     "execution_count": 6,
     "metadata": {},
     "output_type": "execute_result"
    },
    {
     "data": {
      "image/png": "[encoded data removed]",
      "text/plain": [
       "<Figure size 864x288 with 1 Axes>"
      ]
     },
     "metadata": {
      "needs_background": "light"
     },
     "output_type": "display_data"
    }
   ],
   "source": [
    "df['Close'].plot(figsize=(12,4))"
   ]
  },
  {
   "cell_type": "code",
   "execution_count": 7,
   "id": "5d68a49b",
   "metadata": {},
   "outputs": [],
   "source": [
    "import numpy as np"
   ]
  },
  {
   "cell_type": "code",
   "execution_count": 8,
   "id": "1db6c081",
   "metadata": {},
   "outputs": [],
   "source": [
    "df1=df.reset_index()['Close']"
   ]
  },
  {
   "cell_type": "code",
   "execution_count": 9,
   "id": "6e930eb3",
   "metadata": {},
   "outputs": [],
   "source": [
    "from sklearn.preprocessing import MinMaxScaler\n",
    "scaler=MinMaxScaler(feature_range=(0,1))\n",
    "df1=scaler.fit_transform(np.array(df1).reshape(-1,1))"
   ]
  },
  {
   "cell_type": "code",
   "execution_count": 10,
   "id": "53a36772",
   "metadata": {},
   "outputs": [
    {
     "data": {
      "text/plain": [
       "array([[0.02172821],\n",
       "       [0.02216367],\n",
       "       [0.02236466],\n",
       "       ...,\n",
       "       [0.41618736],\n",
       "       [0.44917412],\n",
       "       [0.46236379]])"
      ]
     },
     "execution_count": 10,
     "metadata": {},
     "output_type": "execute_result"
    }
   ],
   "source": [
    "df1"
   ]
  },
  {
   "cell_type": "code",
   "execution_count": 11,
   "id": "1a5881d4",
   "metadata": {},
   "outputs": [],
   "source": [
    "##splitting dataset into train and test split\n",
    "training_size=int(len(df1)*0.65)\n",
    "test_size=len(df1)-training_size\n",
    "train_data,test_data=df1[0:training_size,:],df1[training_size:len(df1),:1]"
   ]
  },
  {
   "cell_type": "code",
   "execution_count": 12,
   "id": "54c7eef6",
   "metadata": {},
   "outputs": [
    {
     "data": {
      "text/plain": [
       "(817, 441)"
      ]
     },
     "execution_count": 12,
     "metadata": {},
     "output_type": "execute_result"
    }
   ],
   "source": [
    "training_size,test_size"
   ]
  },
  {
   "cell_type": "code",
   "execution_count": 13,
   "id": "aa08130e",
   "metadata": {},
   "outputs": [],
   "source": [
    "import numpy\n",
    "# convert an array of values into a dataset matrix\n",
    "def create_dataset(dataset, time_step=1):\n",
    "\tdataX, dataY = [], []\n",
    "\tfor i in range(len(dataset)-time_step-1):\n",
    "\t\ta = dataset[i:(i+time_step), 0]   ###i=0, 0,1,2,3-----99   100 \n",
    "\t\tdataX.append(a)\n",
    "\t\tdataY.append(dataset[i + time_step, 0])\n",
    "\treturn numpy.array(dataX), numpy.array(dataY)"
   ]
  },
  {
   "cell_type": "code",
   "execution_count": 14,
   "id": "6c0d250c",
   "metadata": {},
   "outputs": [],
   "source": [
    "# reshape into X=t,t+1,t+2,t+3 and Y=t+4\n",
    "time_step = 100\n",
    "X_train, y_train = create_dataset(train_data, time_step)\n",
    "X_test, ytest = create_dataset(test_data, time_step)"
   ]
  },
  {
   "cell_type": "code",
   "execution_count": 15,
   "id": "8e721912",
   "metadata": {},
   "outputs": [
    {
     "name": "stdout",
     "output_type": "stream",
     "text": [
      "(716, 100)\n",
      "(716,)\n",
      "(340, 100)\n",
      "(340,)\n"
     ]
    },
    {
     "data": {
      "text/plain": [
       "(None, None)"
      ]
     },
     "execution_count": 15,
     "metadata": {},
     "output_type": "execute_result"
    }
   ],
   "source": [
    "print(X_train.shape), print(y_train.shape)\n",
    "print(X_test.shape), print(ytest.shape)"
   ]
  },
  {
   "cell_type": "code",
   "execution_count": 16,
   "id": "292116f9",
   "metadata": {},
   "outputs": [],
   "source": [
    "# reshape input to be [samples, time steps, features] which is required for LSTM\n",
    "X_train =X_train.reshape(X_train.shape[0],X_train.shape[1] , 1)\n",
    "X_test = X_test.reshape(X_test.shape[0],X_test.shape[1] , 1)"
   ]
  },
  {
   "cell_type": "code",
   "execution_count": 17,
   "id": "252a1213",
   "metadata": {},
   "outputs": [],
   "source": [
    "#!pip install tensorflow\n",
    "\n",
    "### Create the Stacked LSTM model\n",
    "from tensorflow.keras.models import Sequential\n",
    "from tensorflow.keras.layers import Dense\n",
    "from tensorflow.keras.layers import LSTM"
   ]
  },
  {
   "cell_type": "code",
   "execution_count": 18,
   "id": "4544321c",
   "metadata": {},
   "outputs": [],
   "source": [
    "import tensorflow as tf"
   ]
  },
  {
   "cell_type": "code",
   "execution_count": 19,
   "id": "ae711812",
   "metadata": {},
   "outputs": [
    {
     "data": {
      "text/plain": [
       "'2.10.0'"
      ]
     },
     "execution_count": 19,
     "metadata": {},
     "output_type": "execute_result"
    }
   ],
   "source": [
    "tf.__version__"
   ]
  },
  {
   "cell_type": "code",
   "execution_count": 20,
   "id": "ffc76fed",
   "metadata": {},
   "outputs": [],
   "source": [
    "model=Sequential()\n",
    "model.add(LSTM(50,return_sequences=True,input_shape=(100,1)))\n",
    "model.add(LSTM(50,return_sequences=True))\n",
    "model.add(LSTM(50))\n",
    "model.add(Dense(1))\n",
    "model.compile(loss='mean_squared_error',optimizer='adam')"
   ]
  },
  {
   "cell_type": "code",
   "execution_count": 21,
   "id": "169e92d7",
   "metadata": {},
   "outputs": [
    {
     "name": "stdout",
     "output_type": "stream",
     "text": [
      "Model: \"sequential\"\n",
      "_________________________________________________________________\n",
      " Layer (type)                Output Shape              Param #   \n",
      "=================================================================\n",
      " lstm (LSTM)                 (None, 100, 50)           10400     \n",
      "                                                                 \n",
      " lstm_1 (LSTM)               (None, 100, 50)           20200     \n",
      "                                                                 \n",
      " lstm_2 (LSTM)               (None, 50)                20200     \n",
      "                                                                 \n",
      " dense (Dense)               (None, 1)                 51        \n",
      "                                                                 \n",
      "=================================================================\n",
      "Total params: 50,851\n",
      "Trainable params: 50,851\n",
      "Non-trainable params: 0\n",
      "_________________________________________________________________\n"
     ]
    }
   ],
   "source": [
    "model.summary()"
   ]
  },
  {
   "cell_type": "code",
   "execution_count": 22,
   "id": "74b13e87",
   "metadata": {},
   "outputs": [
    {
     "name": "stdout",
     "output_type": "stream",
     "text": [
      "Epoch 1/100\n",
      "12/12 [==============================] - 12s 295ms/step - loss: 0.0140 - val_loss: 0.0215\n",
      "Epoch 2/100\n",
      "12/12 [==============================] - 2s 178ms/step - loss: 0.0019 - val_loss: 0.0081\n",
      "Epoch 3/100\n",
      "12/12 [==============================] - 2s 184ms/step - loss: 9.0134e-04 - val_loss: 0.0131\n",
      "Epoch 4/100\n",
      "12/12 [==============================] - 2s 192ms/step - loss: 6.4885e-04 - val_loss: 0.0105\n",
      "Epoch 5/100\n",
      "12/12 [==============================] - 2s 177ms/step - loss: 5.4449e-04 - val_loss: 0.0085\n",
      "Epoch 6/100\n",
      "12/12 [==============================] - 2s 182ms/step - loss: 5.1571e-04 - val_loss: 0.0056\n",
      "Epoch 7/100\n",
      "12/12 [==============================] - 2s 181ms/step - loss: 5.5006e-04 - val_loss: 0.0051\n",
      "Epoch 8/100\n",
      "12/12 [==============================] - 2s 191ms/step - loss: 5.1339e-04 - val_loss: 0.0091\n",
      "Epoch 9/100\n",
      "12/12 [==============================] - 2s 191ms/step - loss: 6.8810e-04 - val_loss: 0.0077\n",
      "Epoch 10/100\n",
      "12/12 [==============================] - 2s 188ms/step - loss: 5.3407e-04 - val_loss: 0.0057\n",
      "Epoch 11/100\n",
      "12/12 [==============================] - 2s 194ms/step - loss: 4.7514e-04 - val_loss: 0.0056\n",
      "Epoch 12/100\n",
      "12/12 [==============================] - 2s 203ms/step - loss: 6.7498e-04 - val_loss: 0.0045\n",
      "Epoch 13/100\n",
      "12/12 [==============================] - 2s 190ms/step - loss: 5.3047e-04 - val_loss: 0.0046\n",
      "Epoch 14/100\n",
      "12/12 [==============================] - 2s 188ms/step - loss: 5.2379e-04 - val_loss: 0.0047\n",
      "Epoch 15/100\n",
      "12/12 [==============================] - 2s 185ms/step - loss: 5.5248e-04 - val_loss: 0.0043\n",
      "Epoch 16/100\n",
      "12/12 [==============================] - 2s 185ms/step - loss: 4.5965e-04 - val_loss: 0.0049\n",
      "Epoch 17/100\n",
      "12/12 [==============================] - 2s 198ms/step - loss: 4.4391e-04 - val_loss: 0.0040\n",
      "Epoch 18/100\n",
      "12/12 [==============================] - 2s 191ms/step - loss: 7.2149e-04 - val_loss: 0.0048\n",
      "Epoch 19/100\n",
      "12/12 [==============================] - 2s 183ms/step - loss: 6.4966e-04 - val_loss: 0.0041\n",
      "Epoch 20/100\n",
      "12/12 [==============================] - 2s 180ms/step - loss: 4.8478e-04 - val_loss: 0.0042\n",
      "Epoch 21/100\n",
      "12/12 [==============================] - 2s 185ms/step - loss: 4.6013e-04 - val_loss: 0.0040\n",
      "Epoch 22/100\n",
      "12/12 [==============================] - 2s 181ms/step - loss: 4.9855e-04 - val_loss: 0.0048\n",
      "Epoch 23/100\n",
      "12/12 [==============================] - 2s 181ms/step - loss: 6.8747e-04 - val_loss: 0.0038\n",
      "Epoch 24/100\n",
      "12/12 [==============================] - 2s 179ms/step - loss: 6.6190e-04 - val_loss: 0.0036\n",
      "Epoch 25/100\n",
      "12/12 [==============================] - 2s 185ms/step - loss: 5.2513e-04 - val_loss: 0.0039\n",
      "Epoch 26/100\n",
      "12/12 [==============================] - 2s 176ms/step - loss: 4.3128e-04 - val_loss: 0.0033\n",
      "Epoch 27/100\n",
      "12/12 [==============================] - 2s 175ms/step - loss: 3.8590e-04 - val_loss: 0.0040\n",
      "Epoch 28/100\n",
      "12/12 [==============================] - 2s 186ms/step - loss: 3.8352e-04 - val_loss: 0.0032\n",
      "Epoch 29/100\n",
      "12/12 [==============================] - 3s 215ms/step - loss: 3.5317e-04 - val_loss: 0.0033\n",
      "Epoch 30/100\n",
      "12/12 [==============================] - 3s 213ms/step - loss: 3.4587e-04 - val_loss: 0.0044\n",
      "Epoch 31/100\n",
      "12/12 [==============================] - 2s 192ms/step - loss: 4.0825e-04 - val_loss: 0.0032\n",
      "Epoch 32/100\n",
      "12/12 [==============================] - 2s 180ms/step - loss: 4.1519e-04 - val_loss: 0.0038\n",
      "Epoch 33/100\n",
      "12/12 [==============================] - 2s 174ms/step - loss: 5.0010e-04 - val_loss: 0.0034\n",
      "Epoch 34/100\n",
      "12/12 [==============================] - 2s 176ms/step - loss: 4.0967e-04 - val_loss: 0.0051\n",
      "Epoch 35/100\n",
      "12/12 [==============================] - 2s 190ms/step - loss: 3.8847e-04 - val_loss: 0.0032\n",
      "Epoch 36/100\n",
      "12/12 [==============================] - 2s 199ms/step - loss: 3.4918e-04 - val_loss: 0.0038\n",
      "Epoch 37/100\n",
      "12/12 [==============================] - 2s 180ms/step - loss: 2.9836e-04 - val_loss: 0.0027\n",
      "Epoch 38/100\n",
      "12/12 [==============================] - 2s 179ms/step - loss: 2.9470e-04 - val_loss: 0.0033\n",
      "Epoch 39/100\n",
      "12/12 [==============================] - 2s 177ms/step - loss: 2.8854e-04 - val_loss: 0.0031\n",
      "Epoch 40/100\n",
      "12/12 [==============================] - 2s 180ms/step - loss: 2.8311e-04 - val_loss: 0.0028\n",
      "Epoch 41/100\n",
      "12/12 [==============================] - 2s 176ms/step - loss: 2.9751e-04 - val_loss: 0.0028\n",
      "Epoch 42/100\n",
      "12/12 [==============================] - 2s 198ms/step - loss: 2.8232e-04 - val_loss: 0.0027\n",
      "Epoch 43/100\n",
      "12/12 [==============================] - 2s 170ms/step - loss: 2.9566e-04 - val_loss: 0.0033\n",
      "Epoch 44/100\n",
      "12/12 [==============================] - 2s 178ms/step - loss: 2.7539e-04 - val_loss: 0.0051\n",
      "Epoch 45/100\n",
      "12/12 [==============================] - 2s 174ms/step - loss: 3.1079e-04 - val_loss: 0.0046\n",
      "Epoch 46/100\n",
      "12/12 [==============================] - 3s 231ms/step - loss: 2.9358e-04 - val_loss: 0.0052\n",
      "Epoch 47/100\n",
      "12/12 [==============================] - 2s 189ms/step - loss: 2.9796e-04 - val_loss: 0.0037\n",
      "Epoch 48/100\n",
      "12/12 [==============================] - 2s 176ms/step - loss: 3.5560e-04 - val_loss: 0.0025\n",
      "Epoch 49/100\n",
      "12/12 [==============================] - 2s 176ms/step - loss: 4.4119e-04 - val_loss: 0.0025\n",
      "Epoch 50/100\n",
      "12/12 [==============================] - 2s 179ms/step - loss: 3.3276e-04 - val_loss: 0.0027\n",
      "Epoch 51/100\n",
      "12/12 [==============================] - 2s 170ms/step - loss: 3.0663e-04 - val_loss: 0.0026\n",
      "Epoch 52/100\n",
      "12/12 [==============================] - 2s 169ms/step - loss: 3.0344e-04 - val_loss: 0.0025\n",
      "Epoch 53/100\n",
      "12/12 [==============================] - 2s 183ms/step - loss: 2.7313e-04 - val_loss: 0.0025\n",
      "Epoch 54/100\n",
      "12/12 [==============================] - 2s 185ms/step - loss: 2.5145e-04 - val_loss: 0.0031\n",
      "Epoch 55/100\n",
      "12/12 [==============================] - 2s 172ms/step - loss: 3.5677e-04 - val_loss: 0.0037\n",
      "Epoch 56/100\n",
      "12/12 [==============================] - 2s 167ms/step - loss: 3.6801e-04 - val_loss: 0.0027\n",
      "Epoch 57/100\n",
      "12/12 [==============================] - 2s 171ms/step - loss: 3.1613e-04 - val_loss: 0.0023\n",
      "Epoch 58/100\n",
      "12/12 [==============================] - 2s 169ms/step - loss: 3.0300e-04 - val_loss: 0.0026\n",
      "Epoch 59/100\n",
      "12/12 [==============================] - 2s 172ms/step - loss: 2.5775e-04 - val_loss: 0.0031\n",
      "Epoch 60/100\n",
      "12/12 [==============================] - 2s 174ms/step - loss: 2.4768e-04 - val_loss: 0.0028\n",
      "Epoch 61/100\n",
      "12/12 [==============================] - 2s 168ms/step - loss: 2.6601e-04 - val_loss: 0.0030\n",
      "Epoch 62/100\n",
      "12/12 [==============================] - 2s 169ms/step - loss: 2.5671e-04 - val_loss: 0.0033\n",
      "Epoch 63/100\n",
      "12/12 [==============================] - 2s 186ms/step - loss: 2.5770e-04 - val_loss: 0.0022\n",
      "Epoch 64/100\n",
      "12/12 [==============================] - 2s 181ms/step - loss: 2.7313e-04 - val_loss: 0.0023\n",
      "Epoch 65/100\n",
      "12/12 [==============================] - 2s 211ms/step - loss: 2.3048e-04 - val_loss: 0.0025\n",
      "Epoch 66/100\n",
      "12/12 [==============================] - 2s 180ms/step - loss: 2.4366e-04 - val_loss: 0.0023\n",
      "Epoch 67/100\n",
      "12/12 [==============================] - 2s 183ms/step - loss: 2.2815e-04 - val_loss: 0.0024\n",
      "Epoch 68/100\n",
      "12/12 [==============================] - 2s 171ms/step - loss: 2.3712e-04 - val_loss: 0.0023\n",
      "Epoch 69/100\n",
      "12/12 [==============================] - 2s 172ms/step - loss: 2.6207e-04 - val_loss: 0.0022\n",
      "Epoch 70/100\n",
      "12/12 [==============================] - 2s 171ms/step - loss: 2.4501e-04 - val_loss: 0.0020\n",
      "Epoch 71/100\n",
      "12/12 [==============================] - 2s 172ms/step - loss: 3.0349e-04 - val_loss: 0.0020\n",
      "Epoch 72/100\n",
      "12/12 [==============================] - 2s 167ms/step - loss: 2.3931e-04 - val_loss: 0.0021\n",
      "Epoch 73/100\n",
      "12/12 [==============================] - 2s 173ms/step - loss: 2.4104e-04 - val_loss: 0.0019\n",
      "Epoch 74/100\n",
      "12/12 [==============================] - 2s 173ms/step - loss: 2.3903e-04 - val_loss: 0.0020\n",
      "Epoch 75/100\n",
      "12/12 [==============================] - 2s 170ms/step - loss: 2.4014e-04 - val_loss: 0.0018\n",
      "Epoch 76/100\n",
      "12/12 [==============================] - 2s 172ms/step - loss: 2.1748e-04 - val_loss: 0.0018\n",
      "Epoch 77/100\n",
      "12/12 [==============================] - 2s 172ms/step - loss: 2.8962e-04 - val_loss: 0.0021\n",
      "Epoch 78/100\n"
     ]
    },
    {
     "name": "stdout",
     "output_type": "stream",
     "text": [
      "12/12 [==============================] - 2s 178ms/step - loss: 2.4027e-04 - val_loss: 0.0025\n",
      "Epoch 79/100\n",
      "12/12 [==============================] - 2s 176ms/step - loss: 2.3803e-04 - val_loss: 0.0019\n",
      "Epoch 80/100\n",
      "12/12 [==============================] - 2s 172ms/step - loss: 2.1833e-04 - val_loss: 0.0018\n",
      "Epoch 81/100\n",
      "12/12 [==============================] - 2s 172ms/step - loss: 2.5220e-04 - val_loss: 0.0034\n",
      "Epoch 82/100\n",
      "12/12 [==============================] - 2s 168ms/step - loss: 2.5137e-04 - val_loss: 0.0018\n",
      "Epoch 83/100\n",
      "12/12 [==============================] - 2s 165ms/step - loss: 2.2344e-04 - val_loss: 0.0025\n",
      "Epoch 84/100\n",
      "12/12 [==============================] - 2s 164ms/step - loss: 2.4827e-04 - val_loss: 0.0020\n",
      "Epoch 85/100\n",
      "12/12 [==============================] - 2s 166ms/step - loss: 2.1513e-04 - val_loss: 0.0017\n",
      "Epoch 86/100\n",
      "12/12 [==============================] - 2s 166ms/step - loss: 2.2466e-04 - val_loss: 0.0018\n",
      "Epoch 87/100\n",
      "12/12 [==============================] - 2s 170ms/step - loss: 2.1793e-04 - val_loss: 0.0019\n",
      "Epoch 88/100\n",
      "12/12 [==============================] - 2s 176ms/step - loss: 2.2275e-04 - val_loss: 0.0019\n",
      "Epoch 89/100\n",
      "12/12 [==============================] - 2s 166ms/step - loss: 2.1475e-04 - val_loss: 0.0017\n",
      "Epoch 90/100\n",
      "12/12 [==============================] - 2s 190ms/step - loss: 2.2123e-04 - val_loss: 0.0017\n",
      "Epoch 91/100\n",
      "12/12 [==============================] - 2s 197ms/step - loss: 2.4635e-04 - val_loss: 0.0019\n",
      "Epoch 92/100\n",
      "12/12 [==============================] - 2s 173ms/step - loss: 2.1040e-04 - val_loss: 0.0023\n",
      "Epoch 93/100\n",
      "12/12 [==============================] - 2s 169ms/step - loss: 2.2501e-04 - val_loss: 0.0016\n",
      "Epoch 94/100\n",
      "12/12 [==============================] - 2s 186ms/step - loss: 1.9731e-04 - val_loss: 0.0017\n",
      "Epoch 95/100\n",
      "12/12 [==============================] - 2s 185ms/step - loss: 1.9498e-04 - val_loss: 0.0016\n",
      "Epoch 96/100\n",
      "12/12 [==============================] - 2s 192ms/step - loss: 1.9898e-04 - val_loss: 0.0022\n",
      "Epoch 97/100\n",
      "12/12 [==============================] - 2s 171ms/step - loss: 2.1231e-04 - val_loss: 0.0018\n",
      "Epoch 98/100\n",
      "12/12 [==============================] - 2s 180ms/step - loss: 2.0220e-04 - val_loss: 0.0015\n",
      "Epoch 99/100\n",
      "12/12 [==============================] - 2s 172ms/step - loss: 2.2152e-04 - val_loss: 0.0018\n",
      "Epoch 100/100\n",
      "12/12 [==============================] - 2s 172ms/step - loss: 2.5802e-04 - val_loss: 0.0016\n"
     ]
    },
    {
     "data": {
      "text/plain": [
       "<keras.callbacks.History at 0x22afd9805b0>"
      ]
     },
     "execution_count": 22,
     "metadata": {},
     "output_type": "execute_result"
    }
   ],
   "source": [
    "model.fit(X_train,y_train,validation_data=(X_test,ytest),epochs=100,batch_size=64,verbose=1)"
   ]
  },
  {
   "cell_type": "code",
   "execution_count": 23,
   "id": "2d8ea6bb",
   "metadata": {},
   "outputs": [
    {
     "name": "stdout",
     "output_type": "stream",
     "text": [
      "23/23 [==============================] - 3s 63ms/step\n",
      "11/11 [==============================] - 1s 105ms/step\n"
     ]
    }
   ],
   "source": [
    "### Lets Do the prediction and check performance metrics\n",
    "train_predict=model.predict(X_train)\n",
    "test_predict=model.predict(X_test)"
   ]
  },
  {
   "cell_type": "code",
   "execution_count": 24,
   "id": "fa7d566e",
   "metadata": {},
   "outputs": [],
   "source": [
    "##Transformback to original form\n",
    "train_predict=scaler.inverse_transform(train_predict)\n",
    "test_predict=scaler.inverse_transform(test_predict)"
   ]
  },
  {
   "cell_type": "code",
   "execution_count": 25,
   "id": "5268190a",
   "metadata": {},
   "outputs": [
    {
     "data": {
      "text/plain": [
       "84.85209721479896"
      ]
     },
     "execution_count": 25,
     "metadata": {},
     "output_type": "execute_result"
    }
   ],
   "source": [
    "### Calculate RMSE performance metrics\n",
    "import math\n",
    "from sklearn.metrics import mean_squared_error\n",
    "math.sqrt(mean_squared_error(y_train,train_predict))"
   ]
  },
  {
   "cell_type": "code",
   "execution_count": 26,
   "id": "83f059aa",
   "metadata": {},
   "outputs": [
    {
     "data": {
      "text/plain": [
       "280.90812799844906"
      ]
     },
     "execution_count": 26,
     "metadata": {},
     "output_type": "execute_result"
    }
   ],
   "source": [
    "math.sqrt(mean_squared_error(ytest,test_predict))"
   ]
  },
  {
   "cell_type": "code",
   "execution_count": 27,
   "id": "a214a0b6",
   "metadata": {},
   "outputs": [
    {
     "data": {
      "image/png": "[encoded data removed]",
      "text/plain": [
       "<Figure size 432x288 with 1 Axes>"
      ]
     },
     "metadata": {
      "needs_background": "light"
     },
     "output_type": "display_data"
    }
   ],
   "source": [
    "look_back=100\n",
    "trainPredictPlot = numpy.empty_like(df1)\n",
    "trainPredictPlot[:, :] = np.nan\n",
    "trainPredictPlot[look_back:len(train_predict)+look_back, :] = train_predict\n",
    "# shift test predictions for plotting\n",
    "testPredictPlot = numpy.empty_like(df1)\n",
    "testPredictPlot[:, :] = numpy.nan\n",
    "testPredictPlot[len(train_predict)+(look_back*2)+1:len(df1)-1, :] = test_predict\n",
    "# plot baseline and predictions\n",
    "plt.plot(scaler.inverse_transform(df1))\n",
    "plt.plot(trainPredictPlot)\n",
    "plt.plot(testPredictPlot)\n",
    "plt.show()"
   ]
  },
  {
   "cell_type": "code",
   "execution_count": 28,
   "id": "1658c4dc",
   "metadata": {},
   "outputs": [
    {
     "data": {
      "text/plain": [
       "441"
      ]
     },
     "execution_count": 28,
     "metadata": {},
     "output_type": "execute_result"
    }
   ],
   "source": [
    "len(test_data)"
   ]
  },
  {
   "cell_type": "code",
   "execution_count": 29,
   "id": "884c07c1",
   "metadata": {},
   "outputs": [
    {
     "data": {
      "text/plain": [
       "(1, 100)"
      ]
     },
     "execution_count": 29,
     "metadata": {},
     "output_type": "execute_result"
    }
   ],
   "source": [
    "x_input=test_data[341:].reshape(1,-1)\n",
    "x_input.shape"
   ]
  },
  {
   "cell_type": "code",
   "execution_count": 30,
   "id": "57d1f130",
   "metadata": {},
   "outputs": [],
   "source": [
    "temp_input=list(x_input)\n",
    "temp_input=temp_input[0].tolist()"
   ]
  },
  {
   "cell_type": "code",
   "execution_count": 31,
   "id": "42c4cdfc",
   "metadata": {},
   "outputs": [
    {
     "name": "stdout",
     "output_type": "stream",
     "text": [
      "[0.44150674]\n",
      "101\n",
      "1 day input [0.58731814 0.58534179 0.55454913 0.54406441 0.53397323 0.54098262\n",
      " 0.55556244 0.55221269 0.58439549 0.60002211 0.55876985 0.55557083\n",
      " 0.5655447  0.56874375 0.57314867 0.57435457 0.5868743  0.59182357\n",
      " 0.65263843 0.65398675 0.64441474 0.62036348 0.66046014 0.675735\n",
      " 0.71656018 0.71687844 0.72519421 0.74230309 0.74540999 0.69399961\n",
      " 0.69966068 0.68184835 0.70954244 0.69013062 0.72379567 0.74713514\n",
      " 0.74020947 0.73376122 0.73093065 0.71534589 0.69837938 0.71480996\n",
      " 0.71642624 0.71384691 0.69379858 0.68558333 0.66769563 0.66244482\n",
      " 0.66633896 0.64887831 0.65945523 0.68276954 0.69673803 0.72291635\n",
      " 0.73482479 0.70394837 0.73027742 0.7331415  0.73213659 0.74650706\n",
      " 0.74565288 0.72573013 0.69505474 0.66174137 0.66344981 0.68086016\n",
      " 0.69309514 0.64385367 0.63641723 0.57901073 0.59669748 0.57501616\n",
      " 0.56828316 0.53044765 0.53017129 0.51394169 0.51580082 0.527056\n",
      " 0.48502492 0.52110182 0.52321216 0.52785992 0.49077811 0.50876632\n",
      " 0.50075202 0.52881462 0.53439197 0.5355225  0.54413978 0.54167768\n",
      " 0.54238116 0.51012296 0.51095203 0.49125546 0.46515247 0.45063127\n",
      " 0.41618736 0.44917412 0.46236379 0.44150674]\n",
      "1 day output [[0.44150215]]\n",
      "2 day input [0.58534179 0.55454913 0.54406441 0.53397323 0.54098262 0.55556244\n",
      " 0.55221269 0.58439549 0.60002211 0.55876985 0.55557083 0.5655447\n",
      " 0.56874375 0.57314867 0.57435457 0.5868743  0.59182357 0.65263843\n",
      " 0.65398675 0.64441474 0.62036348 0.66046014 0.675735   0.71656018\n",
      " 0.71687844 0.72519421 0.74230309 0.74540999 0.69399961 0.69966068\n",
      " 0.68184835 0.70954244 0.69013062 0.72379567 0.74713514 0.74020947\n",
      " 0.73376122 0.73093065 0.71534589 0.69837938 0.71480996 0.71642624\n",
      " 0.71384691 0.69379858 0.68558333 0.66769563 0.66244482 0.66633896\n",
      " 0.64887831 0.65945523 0.68276954 0.69673803 0.72291635 0.73482479\n",
      " 0.70394837 0.73027742 0.7331415  0.73213659 0.74650706 0.74565288\n",
      " 0.72573013 0.69505474 0.66174137 0.66344981 0.68086016 0.69309514\n",
      " 0.64385367 0.63641723 0.57901073 0.59669748 0.57501616 0.56828316\n",
      " 0.53044765 0.53017129 0.51394169 0.51580082 0.527056   0.48502492\n",
      " 0.52110182 0.52321216 0.52785992 0.49077811 0.50876632 0.50075202\n",
      " 0.52881462 0.53439197 0.5355225  0.54413978 0.54167768 0.54238116\n",
      " 0.51012296 0.51095203 0.49125546 0.46515247 0.45063127 0.41618736\n",
      " 0.44917412 0.46236379 0.44150674 0.44150215]\n",
      "2 day output [[0.44329712]]\n",
      "3 day input [0.55454913 0.54406441 0.53397323 0.54098262 0.55556244 0.55221269\n",
      " 0.58439549 0.60002211 0.55876985 0.55557083 0.5655447  0.56874375\n",
      " 0.57314867 0.57435457 0.5868743  0.59182357 0.65263843 0.65398675\n",
      " 0.64441474 0.62036348 0.66046014 0.675735   0.71656018 0.71687844\n",
      " 0.72519421 0.74230309 0.74540999 0.69399961 0.69966068 0.68184835\n",
      " 0.70954244 0.69013062 0.72379567 0.74713514 0.74020947 0.73376122\n",
      " 0.73093065 0.71534589 0.69837938 0.71480996 0.71642624 0.71384691\n",
      " 0.69379858 0.68558333 0.66769563 0.66244482 0.66633896 0.64887831\n",
      " 0.65945523 0.68276954 0.69673803 0.72291635 0.73482479 0.70394837\n",
      " 0.73027742 0.7331415  0.73213659 0.74650706 0.74565288 0.72573013\n",
      " 0.69505474 0.66174137 0.66344981 0.68086016 0.69309514 0.64385367\n",
      " 0.63641723 0.57901073 0.59669748 0.57501616 0.56828316 0.53044765\n",
      " 0.53017129 0.51394169 0.51580082 0.527056   0.48502492 0.52110182\n",
      " 0.52321216 0.52785992 0.49077811 0.50876632 0.50075202 0.52881462\n",
      " 0.53439197 0.5355225  0.54413978 0.54167768 0.54238116 0.51012296\n",
      " 0.51095203 0.49125546 0.46515247 0.45063127 0.41618736 0.44917412\n",
      " 0.46236379 0.44150674 0.44150215 0.44329712]\n",
      "3 day output [[0.4461541]]\n",
      "4 day input [0.54406441 0.53397323 0.54098262 0.55556244 0.55221269 0.58439549\n",
      " 0.60002211 0.55876985 0.55557083 0.5655447  0.56874375 0.57314867\n",
      " 0.57435457 0.5868743  0.59182357 0.65263843 0.65398675 0.64441474\n",
      " 0.62036348 0.66046014 0.675735   0.71656018 0.71687844 0.72519421\n",
      " 0.74230309 0.74540999 0.69399961 0.69966068 0.68184835 0.70954244\n",
      " 0.69013062 0.72379567 0.74713514 0.74020947 0.73376122 0.73093065\n",
      " 0.71534589 0.69837938 0.71480996 0.71642624 0.71384691 0.69379858\n",
      " 0.68558333 0.66769563 0.66244482 0.66633896 0.64887831 0.65945523\n",
      " 0.68276954 0.69673803 0.72291635 0.73482479 0.70394837 0.73027742\n",
      " 0.7331415  0.73213659 0.74650706 0.74565288 0.72573013 0.69505474\n",
      " 0.66174137 0.66344981 0.68086016 0.69309514 0.64385367 0.63641723\n",
      " 0.57901073 0.59669748 0.57501616 0.56828316 0.53044765 0.53017129\n",
      " 0.51394169 0.51580082 0.527056   0.48502492 0.52110182 0.52321216\n",
      " 0.52785992 0.49077811 0.50876632 0.50075202 0.52881462 0.53439197\n",
      " 0.5355225  0.54413978 0.54167768 0.54238116 0.51012296 0.51095203\n",
      " 0.49125546 0.46515247 0.45063127 0.41618736 0.44917412 0.46236379\n",
      " 0.44150674 0.44150215 0.44329712 0.44615409]\n",
      "4 day output [[0.44978425]]\n",
      "5 day input [0.53397323 0.54098262 0.55556244 0.55221269 0.58439549 0.60002211\n",
      " 0.55876985 0.55557083 0.5655447  0.56874375 0.57314867 0.57435457\n",
      " 0.5868743  0.59182357 0.65263843 0.65398675 0.64441474 0.62036348\n",
      " 0.66046014 0.675735   0.71656018 0.71687844 0.72519421 0.74230309\n",
      " 0.74540999 0.69399961 0.69966068 0.68184835 0.70954244 0.69013062\n",
      " 0.72379567 0.74713514 0.74020947 0.73376122 0.73093065 0.71534589\n",
      " 0.69837938 0.71480996 0.71642624 0.71384691 0.69379858 0.68558333\n",
      " 0.66769563 0.66244482 0.66633896 0.64887831 0.65945523 0.68276954\n",
      " 0.69673803 0.72291635 0.73482479 0.70394837 0.73027742 0.7331415\n",
      " 0.73213659 0.74650706 0.74565288 0.72573013 0.69505474 0.66174137\n",
      " 0.66344981 0.68086016 0.69309514 0.64385367 0.63641723 0.57901073\n",
      " 0.59669748 0.57501616 0.56828316 0.53044765 0.53017129 0.51394169\n",
      " 0.51580082 0.527056   0.48502492 0.52110182 0.52321216 0.52785992\n",
      " 0.49077811 0.50876632 0.50075202 0.52881462 0.53439197 0.5355225\n",
      " 0.54413978 0.54167768 0.54238116 0.51012296 0.51095203 0.49125546\n",
      " 0.46515247 0.45063127 0.41618736 0.44917412 0.46236379 0.44150674\n",
      " 0.44150215 0.44329712 0.44615409 0.44978425]\n",
      "5 day output [[0.45400167]]\n",
      "6 day input [0.54098262 0.55556244 0.55221269 0.58439549 0.60002211 0.55876985\n",
      " 0.55557083 0.5655447  0.56874375 0.57314867 0.57435457 0.5868743\n",
      " 0.59182357 0.65263843 0.65398675 0.64441474 0.62036348 0.66046014\n",
      " 0.675735   0.71656018 0.71687844 0.72519421 0.74230309 0.74540999\n",
      " 0.69399961 0.69966068 0.68184835 0.70954244 0.69013062 0.72379567\n",
      " 0.74713514 0.74020947 0.73376122 0.73093065 0.71534589 0.69837938\n",
      " 0.71480996 0.71642624 0.71384691 0.69379858 0.68558333 0.66769563\n",
      " 0.66244482 0.66633896 0.64887831 0.65945523 0.68276954 0.69673803\n",
      " 0.72291635 0.73482479 0.70394837 0.73027742 0.7331415  0.73213659\n",
      " 0.74650706 0.74565288 0.72573013 0.69505474 0.66174137 0.66344981\n",
      " 0.68086016 0.69309514 0.64385367 0.63641723 0.57901073 0.59669748\n",
      " 0.57501616 0.56828316 0.53044765 0.53017129 0.51394169 0.51580082\n",
      " 0.527056   0.48502492 0.52110182 0.52321216 0.52785992 0.49077811\n",
      " 0.50876632 0.50075202 0.52881462 0.53439197 0.5355225  0.54413978\n",
      " 0.54167768 0.54238116 0.51012296 0.51095203 0.49125546 0.46515247\n",
      " 0.45063127 0.41618736 0.44917412 0.46236379 0.44150674 0.44150215\n",
      " 0.44329712 0.44615409 0.44978425 0.45400167]\n",
      "6 day output [[0.45861948]]\n",
      "7 day input [0.55556244 0.55221269 0.58439549 0.60002211 0.55876985 0.55557083\n",
      " 0.5655447  0.56874375 0.57314867 0.57435457 0.5868743  0.59182357\n",
      " 0.65263843 0.65398675 0.64441474 0.62036348 0.66046014 0.675735\n",
      " 0.71656018 0.71687844 0.72519421 0.74230309 0.74540999 0.69399961\n",
      " 0.69966068 0.68184835 0.70954244 0.69013062 0.72379567 0.74713514\n",
      " 0.74020947 0.73376122 0.73093065 0.71534589 0.69837938 0.71480996\n",
      " 0.71642624 0.71384691 0.69379858 0.68558333 0.66769563 0.66244482\n",
      " 0.66633896 0.64887831 0.65945523 0.68276954 0.69673803 0.72291635\n",
      " 0.73482479 0.70394837 0.73027742 0.7331415  0.73213659 0.74650706\n",
      " 0.74565288 0.72573013 0.69505474 0.66174137 0.66344981 0.68086016\n",
      " 0.69309514 0.64385367 0.63641723 0.57901073 0.59669748 0.57501616\n",
      " 0.56828316 0.53044765 0.53017129 0.51394169 0.51580082 0.527056\n",
      " 0.48502492 0.52110182 0.52321216 0.52785992 0.49077811 0.50876632\n",
      " 0.50075202 0.52881462 0.53439197 0.5355225  0.54413978 0.54167768\n",
      " 0.54238116 0.51012296 0.51095203 0.49125546 0.46515247 0.45063127\n",
      " 0.41618736 0.44917412 0.46236379 0.44150674 0.44150215 0.44329712\n",
      " 0.44615409 0.44978425 0.45400167 0.45861948]\n",
      "7 day output [[0.46343735]]\n",
      "8 day input [0.55221269 0.58439549 0.60002211 0.55876985 0.55557083 0.5655447\n",
      " 0.56874375 0.57314867 0.57435457 0.5868743  0.59182357 0.65263843\n",
      " 0.65398675 0.64441474 0.62036348 0.66046014 0.675735   0.71656018\n",
      " 0.71687844 0.72519421 0.74230309 0.74540999 0.69399961 0.69966068\n",
      " 0.68184835 0.70954244 0.69013062 0.72379567 0.74713514 0.74020947\n",
      " 0.73376122 0.73093065 0.71534589 0.69837938 0.71480996 0.71642624\n",
      " 0.71384691 0.69379858 0.68558333 0.66769563 0.66244482 0.66633896\n",
      " 0.64887831 0.65945523 0.68276954 0.69673803 0.72291635 0.73482479\n",
      " 0.70394837 0.73027742 0.7331415  0.73213659 0.74650706 0.74565288\n",
      " 0.72573013 0.69505474 0.66174137 0.66344981 0.68086016 0.69309514\n",
      " 0.64385367 0.63641723 0.57901073 0.59669748 0.57501616 0.56828316\n",
      " 0.53044765 0.53017129 0.51394169 0.51580082 0.527056   0.48502492\n",
      " 0.52110182 0.52321216 0.52785992 0.49077811 0.50876632 0.50075202\n",
      " 0.52881462 0.53439197 0.5355225  0.54413978 0.54167768 0.54238116\n",
      " 0.51012296 0.51095203 0.49125546 0.46515247 0.45063127 0.41618736\n",
      " 0.44917412 0.46236379 0.44150674 0.44150215 0.44329712 0.44615409\n",
      " 0.44978425 0.45400167 0.45861948 0.46343735]\n",
      "8 day output [[0.46825647]]\n",
      "9 day input [0.58439549 0.60002211 0.55876985 0.55557083 0.5655447  0.56874375\n",
      " 0.57314867 0.57435457 0.5868743  0.59182357 0.65263843 0.65398675\n",
      " 0.64441474 0.62036348 0.66046014 0.675735   0.71656018 0.71687844\n",
      " 0.72519421 0.74230309 0.74540999 0.69399961 0.69966068 0.68184835\n",
      " 0.70954244 0.69013062 0.72379567 0.74713514 0.74020947 0.73376122\n",
      " 0.73093065 0.71534589 0.69837938 0.71480996 0.71642624 0.71384691\n",
      " 0.69379858 0.68558333 0.66769563 0.66244482 0.66633896 0.64887831\n",
      " 0.65945523 0.68276954 0.69673803 0.72291635 0.73482479 0.70394837\n",
      " 0.73027742 0.7331415  0.73213659 0.74650706 0.74565288 0.72573013\n",
      " 0.69505474 0.66174137 0.66344981 0.68086016 0.69309514 0.64385367\n",
      " 0.63641723 0.57901073 0.59669748 0.57501616 0.56828316 0.53044765\n",
      " 0.53017129 0.51394169 0.51580082 0.527056   0.48502492 0.52110182\n",
      " 0.52321216 0.52785992 0.49077811 0.50876632 0.50075202 0.52881462\n",
      " 0.53439197 0.5355225  0.54413978 0.54167768 0.54238116 0.51012296\n",
      " 0.51095203 0.49125546 0.46515247 0.45063127 0.41618736 0.44917412\n",
      " 0.46236379 0.44150674 0.44150215 0.44329712 0.44615409 0.44978425\n",
      " 0.45400167 0.45861948 0.46343735 0.46825647]\n",
      "9 day output [[0.47289294]]\n",
      "10 day input [0.60002211 0.55876985 0.55557083 0.5655447  0.56874375 0.57314867\n",
      " 0.57435457 0.5868743  0.59182357 0.65263843 0.65398675 0.64441474\n",
      " 0.62036348 0.66046014 0.675735   0.71656018 0.71687844 0.72519421\n",
      " 0.74230309 0.74540999 0.69399961 0.69966068 0.68184835 0.70954244\n",
      " 0.69013062 0.72379567 0.74713514 0.74020947 0.73376122 0.73093065\n",
      " 0.71534589 0.69837938 0.71480996 0.71642624 0.71384691 0.69379858\n",
      " 0.68558333 0.66769563 0.66244482 0.66633896 0.64887831 0.65945523\n",
      " 0.68276954 0.69673803 0.72291635 0.73482479 0.70394837 0.73027742\n",
      " 0.7331415  0.73213659 0.74650706 0.74565288 0.72573013 0.69505474\n",
      " 0.66174137 0.66344981 0.68086016 0.69309514 0.64385367 0.63641723\n",
      " 0.57901073 0.59669748 0.57501616 0.56828316 0.53044765 0.53017129\n",
      " 0.51394169 0.51580082 0.527056   0.48502492 0.52110182 0.52321216\n",
      " 0.52785992 0.49077811 0.50876632 0.50075202 0.52881462 0.53439197\n",
      " 0.5355225  0.54413978 0.54167768 0.54238116 0.51012296 0.51095203\n",
      " 0.49125546 0.46515247 0.45063127 0.41618736 0.44917412 0.46236379\n",
      " 0.44150674 0.44150215 0.44329712 0.44615409 0.44978425 0.45400167\n",
      " 0.45861948 0.46343735 0.46825647 0.47289294]\n"
     ]
    },
    {
     "name": "stdout",
     "output_type": "stream",
     "text": [
      "10 day output [[0.47718957]]\n",
      "11 day input [0.55876985 0.55557083 0.5655447  0.56874375 0.57314867 0.57435457\n",
      " 0.5868743  0.59182357 0.65263843 0.65398675 0.64441474 0.62036348\n",
      " 0.66046014 0.675735   0.71656018 0.71687844 0.72519421 0.74230309\n",
      " 0.74540999 0.69399961 0.69966068 0.68184835 0.70954244 0.69013062\n",
      " 0.72379567 0.74713514 0.74020947 0.73376122 0.73093065 0.71534589\n",
      " 0.69837938 0.71480996 0.71642624 0.71384691 0.69379858 0.68558333\n",
      " 0.66769563 0.66244482 0.66633896 0.64887831 0.65945523 0.68276954\n",
      " 0.69673803 0.72291635 0.73482479 0.70394837 0.73027742 0.7331415\n",
      " 0.73213659 0.74650706 0.74565288 0.72573013 0.69505474 0.66174137\n",
      " 0.66344981 0.68086016 0.69309514 0.64385367 0.63641723 0.57901073\n",
      " 0.59669748 0.57501616 0.56828316 0.53044765 0.53017129 0.51394169\n",
      " 0.51580082 0.527056   0.48502492 0.52110182 0.52321216 0.52785992\n",
      " 0.49077811 0.50876632 0.50075202 0.52881462 0.53439197 0.5355225\n",
      " 0.54413978 0.54167768 0.54238116 0.51012296 0.51095203 0.49125546\n",
      " 0.46515247 0.45063127 0.41618736 0.44917412 0.46236379 0.44150674\n",
      " 0.44150215 0.44329712 0.44615409 0.44978425 0.45400167 0.45861948\n",
      " 0.46343735 0.46825647 0.47289294 0.47718957]\n",
      "11 day output [[0.4810217]]\n",
      "12 day input [0.55557083 0.5655447  0.56874375 0.57314867 0.57435457 0.5868743\n",
      " 0.59182357 0.65263843 0.65398675 0.64441474 0.62036348 0.66046014\n",
      " 0.675735   0.71656018 0.71687844 0.72519421 0.74230309 0.74540999\n",
      " 0.69399961 0.69966068 0.68184835 0.70954244 0.69013062 0.72379567\n",
      " 0.74713514 0.74020947 0.73376122 0.73093065 0.71534589 0.69837938\n",
      " 0.71480996 0.71642624 0.71384691 0.69379858 0.68558333 0.66769563\n",
      " 0.66244482 0.66633896 0.64887831 0.65945523 0.68276954 0.69673803\n",
      " 0.72291635 0.73482479 0.70394837 0.73027742 0.7331415  0.73213659\n",
      " 0.74650706 0.74565288 0.72573013 0.69505474 0.66174137 0.66344981\n",
      " 0.68086016 0.69309514 0.64385367 0.63641723 0.57901073 0.59669748\n",
      " 0.57501616 0.56828316 0.53044765 0.53017129 0.51394169 0.51580082\n",
      " 0.527056   0.48502492 0.52110182 0.52321216 0.52785992 0.49077811\n",
      " 0.50876632 0.50075202 0.52881462 0.53439197 0.5355225  0.54413978\n",
      " 0.54167768 0.54238116 0.51012296 0.51095203 0.49125546 0.46515247\n",
      " 0.45063127 0.41618736 0.44917412 0.46236379 0.44150674 0.44150215\n",
      " 0.44329712 0.44615409 0.44978425 0.45400167 0.45861948 0.46343735\n",
      " 0.46825647 0.47289294 0.47718957 0.4810217 ]\n",
      "12 day output [[0.48430085]]\n",
      "13 day input [0.5655447  0.56874375 0.57314867 0.57435457 0.5868743  0.59182357\n",
      " 0.65263843 0.65398675 0.64441474 0.62036348 0.66046014 0.675735\n",
      " 0.71656018 0.71687844 0.72519421 0.74230309 0.74540999 0.69399961\n",
      " 0.69966068 0.68184835 0.70954244 0.69013062 0.72379567 0.74713514\n",
      " 0.74020947 0.73376122 0.73093065 0.71534589 0.69837938 0.71480996\n",
      " 0.71642624 0.71384691 0.69379858 0.68558333 0.66769563 0.66244482\n",
      " 0.66633896 0.64887831 0.65945523 0.68276954 0.69673803 0.72291635\n",
      " 0.73482479 0.70394837 0.73027742 0.7331415  0.73213659 0.74650706\n",
      " 0.74565288 0.72573013 0.69505474 0.66174137 0.66344981 0.68086016\n",
      " 0.69309514 0.64385367 0.63641723 0.57901073 0.59669748 0.57501616\n",
      " 0.56828316 0.53044765 0.53017129 0.51394169 0.51580082 0.527056\n",
      " 0.48502492 0.52110182 0.52321216 0.52785992 0.49077811 0.50876632\n",
      " 0.50075202 0.52881462 0.53439197 0.5355225  0.54413978 0.54167768\n",
      " 0.54238116 0.51012296 0.51095203 0.49125546 0.46515247 0.45063127\n",
      " 0.41618736 0.44917412 0.46236379 0.44150674 0.44150215 0.44329712\n",
      " 0.44615409 0.44978425 0.45400167 0.45861948 0.46343735 0.46825647\n",
      " 0.47289294 0.47718957 0.4810217  0.48430085]\n",
      "13 day output [[0.4869749]]\n",
      "14 day input [0.56874375 0.57314867 0.57435457 0.5868743  0.59182357 0.65263843\n",
      " 0.65398675 0.64441474 0.62036348 0.66046014 0.675735   0.71656018\n",
      " 0.71687844 0.72519421 0.74230309 0.74540999 0.69399961 0.69966068\n",
      " 0.68184835 0.70954244 0.69013062 0.72379567 0.74713514 0.74020947\n",
      " 0.73376122 0.73093065 0.71534589 0.69837938 0.71480996 0.71642624\n",
      " 0.71384691 0.69379858 0.68558333 0.66769563 0.66244482 0.66633896\n",
      " 0.64887831 0.65945523 0.68276954 0.69673803 0.72291635 0.73482479\n",
      " 0.70394837 0.73027742 0.7331415  0.73213659 0.74650706 0.74565288\n",
      " 0.72573013 0.69505474 0.66174137 0.66344981 0.68086016 0.69309514\n",
      " 0.64385367 0.63641723 0.57901073 0.59669748 0.57501616 0.56828316\n",
      " 0.53044765 0.53017129 0.51394169 0.51580082 0.527056   0.48502492\n",
      " 0.52110182 0.52321216 0.52785992 0.49077811 0.50876632 0.50075202\n",
      " 0.52881462 0.53439197 0.5355225  0.54413978 0.54167768 0.54238116\n",
      " 0.51012296 0.51095203 0.49125546 0.46515247 0.45063127 0.41618736\n",
      " 0.44917412 0.46236379 0.44150674 0.44150215 0.44329712 0.44615409\n",
      " 0.44978425 0.45400167 0.45861948 0.46343735 0.46825647 0.47289294\n",
      " 0.47718957 0.4810217  0.48430085 0.4869749 ]\n",
      "14 day output [[0.48902643]]\n",
      "15 day input [0.57314867 0.57435457 0.5868743  0.59182357 0.65263843 0.65398675\n",
      " 0.64441474 0.62036348 0.66046014 0.675735   0.71656018 0.71687844\n",
      " 0.72519421 0.74230309 0.74540999 0.69399961 0.69966068 0.68184835\n",
      " 0.70954244 0.69013062 0.72379567 0.74713514 0.74020947 0.73376122\n",
      " 0.73093065 0.71534589 0.69837938 0.71480996 0.71642624 0.71384691\n",
      " 0.69379858 0.68558333 0.66769563 0.66244482 0.66633896 0.64887831\n",
      " 0.65945523 0.68276954 0.69673803 0.72291635 0.73482479 0.70394837\n",
      " 0.73027742 0.7331415  0.73213659 0.74650706 0.74565288 0.72573013\n",
      " 0.69505474 0.66174137 0.66344981 0.68086016 0.69309514 0.64385367\n",
      " 0.63641723 0.57901073 0.59669748 0.57501616 0.56828316 0.53044765\n",
      " 0.53017129 0.51394169 0.51580082 0.527056   0.48502492 0.52110182\n",
      " 0.52321216 0.52785992 0.49077811 0.50876632 0.50075202 0.52881462\n",
      " 0.53439197 0.5355225  0.54413978 0.54167768 0.54238116 0.51012296\n",
      " 0.51095203 0.49125546 0.46515247 0.45063127 0.41618736 0.44917412\n",
      " 0.46236379 0.44150674 0.44150215 0.44329712 0.44615409 0.44978425\n",
      " 0.45400167 0.45861948 0.46343735 0.46825647 0.47289294 0.47718957\n",
      " 0.4810217  0.48430085 0.4869749  0.48902643]\n",
      "15 day output [[0.49046892]]\n",
      "16 day input [0.57435457 0.5868743  0.59182357 0.65263843 0.65398675 0.64441474\n",
      " 0.62036348 0.66046014 0.675735   0.71656018 0.71687844 0.72519421\n",
      " 0.74230309 0.74540999 0.69399961 0.69966068 0.68184835 0.70954244\n",
      " 0.69013062 0.72379567 0.74713514 0.74020947 0.73376122 0.73093065\n",
      " 0.71534589 0.69837938 0.71480996 0.71642624 0.71384691 0.69379858\n",
      " 0.68558333 0.66769563 0.66244482 0.66633896 0.64887831 0.65945523\n",
      " 0.68276954 0.69673803 0.72291635 0.73482479 0.70394837 0.73027742\n",
      " 0.7331415  0.73213659 0.74650706 0.74565288 0.72573013 0.69505474\n",
      " 0.66174137 0.66344981 0.68086016 0.69309514 0.64385367 0.63641723\n",
      " 0.57901073 0.59669748 0.57501616 0.56828316 0.53044765 0.53017129\n",
      " 0.51394169 0.51580082 0.527056   0.48502492 0.52110182 0.52321216\n",
      " 0.52785992 0.49077811 0.50876632 0.50075202 0.52881462 0.53439197\n",
      " 0.5355225  0.54413978 0.54167768 0.54238116 0.51012296 0.51095203\n",
      " 0.49125546 0.46515247 0.45063127 0.41618736 0.44917412 0.46236379\n",
      " 0.44150674 0.44150215 0.44329712 0.44615409 0.44978425 0.45400167\n",
      " 0.45861948 0.46343735 0.46825647 0.47289294 0.47718957 0.4810217\n",
      " 0.48430085 0.4869749  0.48902643 0.49046892]\n",
      "16 day output [[0.49134302]]\n",
      "17 day input [0.5868743  0.59182357 0.65263843 0.65398675 0.64441474 0.62036348\n",
      " 0.66046014 0.675735   0.71656018 0.71687844 0.72519421 0.74230309\n",
      " 0.74540999 0.69399961 0.69966068 0.68184835 0.70954244 0.69013062\n",
      " 0.72379567 0.74713514 0.74020947 0.73376122 0.73093065 0.71534589\n",
      " 0.69837938 0.71480996 0.71642624 0.71384691 0.69379858 0.68558333\n",
      " 0.66769563 0.66244482 0.66633896 0.64887831 0.65945523 0.68276954\n",
      " 0.69673803 0.72291635 0.73482479 0.70394837 0.73027742 0.7331415\n",
      " 0.73213659 0.74650706 0.74565288 0.72573013 0.69505474 0.66174137\n",
      " 0.66344981 0.68086016 0.69309514 0.64385367 0.63641723 0.57901073\n",
      " 0.59669748 0.57501616 0.56828316 0.53044765 0.53017129 0.51394169\n",
      " 0.51580082 0.527056   0.48502492 0.52110182 0.52321216 0.52785992\n",
      " 0.49077811 0.50876632 0.50075202 0.52881462 0.53439197 0.5355225\n",
      " 0.54413978 0.54167768 0.54238116 0.51012296 0.51095203 0.49125546\n",
      " 0.46515247 0.45063127 0.41618736 0.44917412 0.46236379 0.44150674\n",
      " 0.44150215 0.44329712 0.44615409 0.44978425 0.45400167 0.45861948\n",
      " 0.46343735 0.46825647 0.47289294 0.47718957 0.4810217  0.48430085\n",
      " 0.4869749  0.48902643 0.49046892 0.49134302]\n",
      "17 day output [[0.49171004]]\n",
      "18 day input [0.59182357 0.65263843 0.65398675 0.64441474 0.62036348 0.66046014\n",
      " 0.675735   0.71656018 0.71687844 0.72519421 0.74230309 0.74540999\n",
      " 0.69399961 0.69966068 0.68184835 0.70954244 0.69013062 0.72379567\n",
      " 0.74713514 0.74020947 0.73376122 0.73093065 0.71534589 0.69837938\n",
      " 0.71480996 0.71642624 0.71384691 0.69379858 0.68558333 0.66769563\n",
      " 0.66244482 0.66633896 0.64887831 0.65945523 0.68276954 0.69673803\n",
      " 0.72291635 0.73482479 0.70394837 0.73027742 0.7331415  0.73213659\n",
      " 0.74650706 0.74565288 0.72573013 0.69505474 0.66174137 0.66344981\n",
      " 0.68086016 0.69309514 0.64385367 0.63641723 0.57901073 0.59669748\n",
      " 0.57501616 0.56828316 0.53044765 0.53017129 0.51394169 0.51580082\n",
      " 0.527056   0.48502492 0.52110182 0.52321216 0.52785992 0.49077811\n",
      " 0.50876632 0.50075202 0.52881462 0.53439197 0.5355225  0.54413978\n",
      " 0.54167768 0.54238116 0.51012296 0.51095203 0.49125546 0.46515247\n",
      " 0.45063127 0.41618736 0.44917412 0.46236379 0.44150674 0.44150215\n",
      " 0.44329712 0.44615409 0.44978425 0.45400167 0.45861948 0.46343735\n",
      " 0.46825647 0.47289294 0.47718957 0.4810217  0.48430085 0.4869749\n",
      " 0.48902643 0.49046892 0.49134302 0.49171004]\n",
      "18 day output [[0.4916467]]\n",
      "19 day input [0.65263843 0.65398675 0.64441474 0.62036348 0.66046014 0.675735\n",
      " 0.71656018 0.71687844 0.72519421 0.74230309 0.74540999 0.69399961\n",
      " 0.69966068 0.68184835 0.70954244 0.69013062 0.72379567 0.74713514\n",
      " 0.74020947 0.73376122 0.73093065 0.71534589 0.69837938 0.71480996\n",
      " 0.71642624 0.71384691 0.69379858 0.68558333 0.66769563 0.66244482\n",
      " 0.66633896 0.64887831 0.65945523 0.68276954 0.69673803 0.72291635\n",
      " 0.73482479 0.70394837 0.73027742 0.7331415  0.73213659 0.74650706\n",
      " 0.74565288 0.72573013 0.69505474 0.66174137 0.66344981 0.68086016\n",
      " 0.69309514 0.64385367 0.63641723 0.57901073 0.59669748 0.57501616\n",
      " 0.56828316 0.53044765 0.53017129 0.51394169 0.51580082 0.527056\n",
      " 0.48502492 0.52110182 0.52321216 0.52785992 0.49077811 0.50876632\n",
      " 0.50075202 0.52881462 0.53439197 0.5355225  0.54413978 0.54167768\n",
      " 0.54238116 0.51012296 0.51095203 0.49125546 0.46515247 0.45063127\n",
      " 0.41618736 0.44917412 0.46236379 0.44150674 0.44150215 0.44329712\n",
      " 0.44615409 0.44978425 0.45400167 0.45861948 0.46343735 0.46825647\n",
      " 0.47289294 0.47718957 0.4810217  0.48430085 0.4869749  0.48902643\n",
      " 0.49046892 0.49134302 0.49171004 0.49164671]\n"
     ]
    },
    {
     "name": "stdout",
     "output_type": "stream",
     "text": [
      "19 day output [[0.49123892]]\n",
      "20 day input [0.65398675 0.64441474 0.62036348 0.66046014 0.675735   0.71656018\n",
      " 0.71687844 0.72519421 0.74230309 0.74540999 0.69399961 0.69966068\n",
      " 0.68184835 0.70954244 0.69013062 0.72379567 0.74713514 0.74020947\n",
      " 0.73376122 0.73093065 0.71534589 0.69837938 0.71480996 0.71642624\n",
      " 0.71384691 0.69379858 0.68558333 0.66769563 0.66244482 0.66633896\n",
      " 0.64887831 0.65945523 0.68276954 0.69673803 0.72291635 0.73482479\n",
      " 0.70394837 0.73027742 0.7331415  0.73213659 0.74650706 0.74565288\n",
      " 0.72573013 0.69505474 0.66174137 0.66344981 0.68086016 0.69309514\n",
      " 0.64385367 0.63641723 0.57901073 0.59669748 0.57501616 0.56828316\n",
      " 0.53044765 0.53017129 0.51394169 0.51580082 0.527056   0.48502492\n",
      " 0.52110182 0.52321216 0.52785992 0.49077811 0.50876632 0.50075202\n",
      " 0.52881462 0.53439197 0.5355225  0.54413978 0.54167768 0.54238116\n",
      " 0.51012296 0.51095203 0.49125546 0.46515247 0.45063127 0.41618736\n",
      " 0.44917412 0.46236379 0.44150674 0.44150215 0.44329712 0.44615409\n",
      " 0.44978425 0.45400167 0.45861948 0.46343735 0.46825647 0.47289294\n",
      " 0.47718957 0.4810217  0.48430085 0.4869749  0.48902643 0.49046892\n",
      " 0.49134302 0.49171004 0.49164671 0.49123892]\n",
      "20 day output [[0.49057716]]\n",
      "21 day input [0.64441474 0.62036348 0.66046014 0.675735   0.71656018 0.71687844\n",
      " 0.72519421 0.74230309 0.74540999 0.69399961 0.69966068 0.68184835\n",
      " 0.70954244 0.69013062 0.72379567 0.74713514 0.74020947 0.73376122\n",
      " 0.73093065 0.71534589 0.69837938 0.71480996 0.71642624 0.71384691\n",
      " 0.69379858 0.68558333 0.66769563 0.66244482 0.66633896 0.64887831\n",
      " 0.65945523 0.68276954 0.69673803 0.72291635 0.73482479 0.70394837\n",
      " 0.73027742 0.7331415  0.73213659 0.74650706 0.74565288 0.72573013\n",
      " 0.69505474 0.66174137 0.66344981 0.68086016 0.69309514 0.64385367\n",
      " 0.63641723 0.57901073 0.59669748 0.57501616 0.56828316 0.53044765\n",
      " 0.53017129 0.51394169 0.51580082 0.527056   0.48502492 0.52110182\n",
      " 0.52321216 0.52785992 0.49077811 0.50876632 0.50075202 0.52881462\n",
      " 0.53439197 0.5355225  0.54413978 0.54167768 0.54238116 0.51012296\n",
      " 0.51095203 0.49125546 0.46515247 0.45063127 0.41618736 0.44917412\n",
      " 0.46236379 0.44150674 0.44150215 0.44329712 0.44615409 0.44978425\n",
      " 0.45400167 0.45861948 0.46343735 0.46825647 0.47289294 0.47718957\n",
      " 0.4810217  0.48430085 0.4869749  0.48902643 0.49046892 0.49134302\n",
      " 0.49171004 0.49164671 0.49123892 0.49057716]\n",
      "21 day output [[0.48975044]]\n",
      "22 day input [0.62036348 0.66046014 0.675735   0.71656018 0.71687844 0.72519421\n",
      " 0.74230309 0.74540999 0.69399961 0.69966068 0.68184835 0.70954244\n",
      " 0.69013062 0.72379567 0.74713514 0.74020947 0.73376122 0.73093065\n",
      " 0.71534589 0.69837938 0.71480996 0.71642624 0.71384691 0.69379858\n",
      " 0.68558333 0.66769563 0.66244482 0.66633896 0.64887831 0.65945523\n",
      " 0.68276954 0.69673803 0.72291635 0.73482479 0.70394837 0.73027742\n",
      " 0.7331415  0.73213659 0.74650706 0.74565288 0.72573013 0.69505474\n",
      " 0.66174137 0.66344981 0.68086016 0.69309514 0.64385367 0.63641723\n",
      " 0.57901073 0.59669748 0.57501616 0.56828316 0.53044765 0.53017129\n",
      " 0.51394169 0.51580082 0.527056   0.48502492 0.52110182 0.52321216\n",
      " 0.52785992 0.49077811 0.50876632 0.50075202 0.52881462 0.53439197\n",
      " 0.5355225  0.54413978 0.54167768 0.54238116 0.51012296 0.51095203\n",
      " 0.49125546 0.46515247 0.45063127 0.41618736 0.44917412 0.46236379\n",
      " 0.44150674 0.44150215 0.44329712 0.44615409 0.44978425 0.45400167\n",
      " 0.45861948 0.46343735 0.46825647 0.47289294 0.47718957 0.4810217\n",
      " 0.48430085 0.4869749  0.48902643 0.49046892 0.49134302 0.49171004\n",
      " 0.49164671 0.49123892 0.49057716 0.48975044]\n",
      "22 day output [[0.48884356]]\n",
      "23 day input [0.66046014 0.675735   0.71656018 0.71687844 0.72519421 0.74230309\n",
      " 0.74540999 0.69399961 0.69966068 0.68184835 0.70954244 0.69013062\n",
      " 0.72379567 0.74713514 0.74020947 0.73376122 0.73093065 0.71534589\n",
      " 0.69837938 0.71480996 0.71642624 0.71384691 0.69379858 0.68558333\n",
      " 0.66769563 0.66244482 0.66633896 0.64887831 0.65945523 0.68276954\n",
      " 0.69673803 0.72291635 0.73482479 0.70394837 0.73027742 0.7331415\n",
      " 0.73213659 0.74650706 0.74565288 0.72573013 0.69505474 0.66174137\n",
      " 0.66344981 0.68086016 0.69309514 0.64385367 0.63641723 0.57901073\n",
      " 0.59669748 0.57501616 0.56828316 0.53044765 0.53017129 0.51394169\n",
      " 0.51580082 0.527056   0.48502492 0.52110182 0.52321216 0.52785992\n",
      " 0.49077811 0.50876632 0.50075202 0.52881462 0.53439197 0.5355225\n",
      " 0.54413978 0.54167768 0.54238116 0.51012296 0.51095203 0.49125546\n",
      " 0.46515247 0.45063127 0.41618736 0.44917412 0.46236379 0.44150674\n",
      " 0.44150215 0.44329712 0.44615409 0.44978425 0.45400167 0.45861948\n",
      " 0.46343735 0.46825647 0.47289294 0.47718957 0.4810217  0.48430085\n",
      " 0.4869749  0.48902643 0.49046892 0.49134302 0.49171004 0.49164671\n",
      " 0.49123892 0.49057716 0.48975044 0.48884356]\n",
      "23 day output [[0.48793316]]\n",
      "24 day input [0.675735   0.71656018 0.71687844 0.72519421 0.74230309 0.74540999\n",
      " 0.69399961 0.69966068 0.68184835 0.70954244 0.69013062 0.72379567\n",
      " 0.74713514 0.74020947 0.73376122 0.73093065 0.71534589 0.69837938\n",
      " 0.71480996 0.71642624 0.71384691 0.69379858 0.68558333 0.66769563\n",
      " 0.66244482 0.66633896 0.64887831 0.65945523 0.68276954 0.69673803\n",
      " 0.72291635 0.73482479 0.70394837 0.73027742 0.7331415  0.73213659\n",
      " 0.74650706 0.74565288 0.72573013 0.69505474 0.66174137 0.66344981\n",
      " 0.68086016 0.69309514 0.64385367 0.63641723 0.57901073 0.59669748\n",
      " 0.57501616 0.56828316 0.53044765 0.53017129 0.51394169 0.51580082\n",
      " 0.527056   0.48502492 0.52110182 0.52321216 0.52785992 0.49077811\n",
      " 0.50876632 0.50075202 0.52881462 0.53439197 0.5355225  0.54413978\n",
      " 0.54167768 0.54238116 0.51012296 0.51095203 0.49125546 0.46515247\n",
      " 0.45063127 0.41618736 0.44917412 0.46236379 0.44150674 0.44150215\n",
      " 0.44329712 0.44615409 0.44978425 0.45400167 0.45861948 0.46343735\n",
      " 0.46825647 0.47289294 0.47718957 0.4810217  0.48430085 0.4869749\n",
      " 0.48902643 0.49046892 0.49134302 0.49171004 0.49164671 0.49123892\n",
      " 0.49057716 0.48975044 0.48884356 0.48793316]\n",
      "24 day output [[0.48708543]]\n",
      "25 day input [0.71656018 0.71687844 0.72519421 0.74230309 0.74540999 0.69399961\n",
      " 0.69966068 0.68184835 0.70954244 0.69013062 0.72379567 0.74713514\n",
      " 0.74020947 0.73376122 0.73093065 0.71534589 0.69837938 0.71480996\n",
      " 0.71642624 0.71384691 0.69379858 0.68558333 0.66769563 0.66244482\n",
      " 0.66633896 0.64887831 0.65945523 0.68276954 0.69673803 0.72291635\n",
      " 0.73482479 0.70394837 0.73027742 0.7331415  0.73213659 0.74650706\n",
      " 0.74565288 0.72573013 0.69505474 0.66174137 0.66344981 0.68086016\n",
      " 0.69309514 0.64385367 0.63641723 0.57901073 0.59669748 0.57501616\n",
      " 0.56828316 0.53044765 0.53017129 0.51394169 0.51580082 0.527056\n",
      " 0.48502492 0.52110182 0.52321216 0.52785992 0.49077811 0.50876632\n",
      " 0.50075202 0.52881462 0.53439197 0.5355225  0.54413978 0.54167768\n",
      " 0.54238116 0.51012296 0.51095203 0.49125546 0.46515247 0.45063127\n",
      " 0.41618736 0.44917412 0.46236379 0.44150674 0.44150215 0.44329712\n",
      " 0.44615409 0.44978425 0.45400167 0.45861948 0.46343735 0.46825647\n",
      " 0.47289294 0.47718957 0.4810217  0.48430085 0.4869749  0.48902643\n",
      " 0.49046892 0.49134302 0.49171004 0.49164671 0.49123892 0.49057716\n",
      " 0.48975044 0.48884356 0.48793316 0.48708543]\n",
      "25 day output [[0.4863552]]\n",
      "26 day input [0.71687844 0.72519421 0.74230309 0.74540999 0.69399961 0.69966068\n",
      " 0.68184835 0.70954244 0.69013062 0.72379567 0.74713514 0.74020947\n",
      " 0.73376122 0.73093065 0.71534589 0.69837938 0.71480996 0.71642624\n",
      " 0.71384691 0.69379858 0.68558333 0.66769563 0.66244482 0.66633896\n",
      " 0.64887831 0.65945523 0.68276954 0.69673803 0.72291635 0.73482479\n",
      " 0.70394837 0.73027742 0.7331415  0.73213659 0.74650706 0.74565288\n",
      " 0.72573013 0.69505474 0.66174137 0.66344981 0.68086016 0.69309514\n",
      " 0.64385367 0.63641723 0.57901073 0.59669748 0.57501616 0.56828316\n",
      " 0.53044765 0.53017129 0.51394169 0.51580082 0.527056   0.48502492\n",
      " 0.52110182 0.52321216 0.52785992 0.49077811 0.50876632 0.50075202\n",
      " 0.52881462 0.53439197 0.5355225  0.54413978 0.54167768 0.54238116\n",
      " 0.51012296 0.51095203 0.49125546 0.46515247 0.45063127 0.41618736\n",
      " 0.44917412 0.46236379 0.44150674 0.44150215 0.44329712 0.44615409\n",
      " 0.44978425 0.45400167 0.45861948 0.46343735 0.46825647 0.47289294\n",
      " 0.47718957 0.4810217  0.48430085 0.4869749  0.48902643 0.49046892\n",
      " 0.49134302 0.49171004 0.49164671 0.49123892 0.49057716 0.48975044\n",
      " 0.48884356 0.48793316 0.48708543 0.48635519]\n",
      "26 day output [[0.4857843]]\n",
      "27 day input [0.72519421 0.74230309 0.74540999 0.69399961 0.69966068 0.68184835\n",
      " 0.70954244 0.69013062 0.72379567 0.74713514 0.74020947 0.73376122\n",
      " 0.73093065 0.71534589 0.69837938 0.71480996 0.71642624 0.71384691\n",
      " 0.69379858 0.68558333 0.66769563 0.66244482 0.66633896 0.64887831\n",
      " 0.65945523 0.68276954 0.69673803 0.72291635 0.73482479 0.70394837\n",
      " 0.73027742 0.7331415  0.73213659 0.74650706 0.74565288 0.72573013\n",
      " 0.69505474 0.66174137 0.66344981 0.68086016 0.69309514 0.64385367\n",
      " 0.63641723 0.57901073 0.59669748 0.57501616 0.56828316 0.53044765\n",
      " 0.53017129 0.51394169 0.51580082 0.527056   0.48502492 0.52110182\n",
      " 0.52321216 0.52785992 0.49077811 0.50876632 0.50075202 0.52881462\n",
      " 0.53439197 0.5355225  0.54413978 0.54167768 0.54238116 0.51012296\n",
      " 0.51095203 0.49125546 0.46515247 0.45063127 0.41618736 0.44917412\n",
      " 0.46236379 0.44150674 0.44150215 0.44329712 0.44615409 0.44978425\n",
      " 0.45400167 0.45861948 0.46343735 0.46825647 0.47289294 0.47718957\n",
      " 0.4810217  0.48430085 0.4869749  0.48902643 0.49046892 0.49134302\n",
      " 0.49171004 0.49164671 0.49123892 0.49057716 0.48975044 0.48884356\n",
      " 0.48793316 0.48708543 0.48635519 0.48578429]\n"
     ]
    },
    {
     "name": "stdout",
     "output_type": "stream",
     "text": [
      "27 day output [[0.48540223]]\n",
      "28 day input [0.74230309 0.74540999 0.69399961 0.69966068 0.68184835 0.70954244\n",
      " 0.69013062 0.72379567 0.74713514 0.74020947 0.73376122 0.73093065\n",
      " 0.71534589 0.69837938 0.71480996 0.71642624 0.71384691 0.69379858\n",
      " 0.68558333 0.66769563 0.66244482 0.66633896 0.64887831 0.65945523\n",
      " 0.68276954 0.69673803 0.72291635 0.73482479 0.70394837 0.73027742\n",
      " 0.7331415  0.73213659 0.74650706 0.74565288 0.72573013 0.69505474\n",
      " 0.66174137 0.66344981 0.68086016 0.69309514 0.64385367 0.63641723\n",
      " 0.57901073 0.59669748 0.57501616 0.56828316 0.53044765 0.53017129\n",
      " 0.51394169 0.51580082 0.527056   0.48502492 0.52110182 0.52321216\n",
      " 0.52785992 0.49077811 0.50876632 0.50075202 0.52881462 0.53439197\n",
      " 0.5355225  0.54413978 0.54167768 0.54238116 0.51012296 0.51095203\n",
      " 0.49125546 0.46515247 0.45063127 0.41618736 0.44917412 0.46236379\n",
      " 0.44150674 0.44150215 0.44329712 0.44615409 0.44978425 0.45400167\n",
      " 0.45861948 0.46343735 0.46825647 0.47289294 0.47718957 0.4810217\n",
      " 0.48430085 0.4869749  0.48902643 0.49046892 0.49134302 0.49171004\n",
      " 0.49164671 0.49123892 0.49057716 0.48975044 0.48884356 0.48793316\n",
      " 0.48708543 0.48635519 0.48578429 0.48540223]\n",
      "28 day output [[0.4852262]]\n",
      "29 day input [0.74540999 0.69399961 0.69966068 0.68184835 0.70954244 0.69013062\n",
      " 0.72379567 0.74713514 0.74020947 0.73376122 0.73093065 0.71534589\n",
      " 0.69837938 0.71480996 0.71642624 0.71384691 0.69379858 0.68558333\n",
      " 0.66769563 0.66244482 0.66633896 0.64887831 0.65945523 0.68276954\n",
      " 0.69673803 0.72291635 0.73482479 0.70394837 0.73027742 0.7331415\n",
      " 0.73213659 0.74650706 0.74565288 0.72573013 0.69505474 0.66174137\n",
      " 0.66344981 0.68086016 0.69309514 0.64385367 0.63641723 0.57901073\n",
      " 0.59669748 0.57501616 0.56828316 0.53044765 0.53017129 0.51394169\n",
      " 0.51580082 0.527056   0.48502492 0.52110182 0.52321216 0.52785992\n",
      " 0.49077811 0.50876632 0.50075202 0.52881462 0.53439197 0.5355225\n",
      " 0.54413978 0.54167768 0.54238116 0.51012296 0.51095203 0.49125546\n",
      " 0.46515247 0.45063127 0.41618736 0.44917412 0.46236379 0.44150674\n",
      " 0.44150215 0.44329712 0.44615409 0.44978425 0.45400167 0.45861948\n",
      " 0.46343735 0.46825647 0.47289294 0.47718957 0.4810217  0.48430085\n",
      " 0.4869749  0.48902643 0.49046892 0.49134302 0.49171004 0.49164671\n",
      " 0.49123892 0.49057716 0.48975044 0.48884356 0.48793316 0.48708543\n",
      " 0.48635519 0.48578429 0.48540223 0.48522621]\n",
      "29 day output [[0.48526207]]\n",
      "[[0.4415067434310913], [0.4415021538734436], [0.4432971179485321], [0.44615408778190613], [0.4497842490673065], [0.45400166511535645], [0.45861947536468506], [0.46343734860420227], [0.46825647354125977], [0.4728929400444031], [0.4771895706653595], [0.4810217022895813], [0.4843008518218994], [0.48697489500045776], [0.48902642726898193], [0.49046891927719116], [0.49134302139282227], [0.49171003699302673], [0.4916467070579529], [0.49123892188072205], [0.49057716131210327], [0.4897504448890686], [0.48884356021881104], [0.4879331588745117], [0.4870854318141937], [0.486355185508728], [0.48578429222106934], [0.4854022264480591], [0.48522621393203735], [0.48526206612586975]]\n"
     ]
    }
   ],
   "source": [
    "# demonstrate prediction for next 10 days\n",
    "from numpy import array\n",
    "\n",
    "lst_output=[]\n",
    "n_steps=100\n",
    "i=0\n",
    "while(i<30):\n",
    "    \n",
    "    if(len(temp_input)>100):\n",
    "        #print(temp_input)\n",
    "        x_input=np.array(temp_input[1:])\n",
    "        print(\"{} day input {}\".format(i,x_input))\n",
    "        x_input=x_input.reshape(1,-1)\n",
    "        x_input = x_input.reshape((1, n_steps, 1))\n",
    "        #print(x_input)\n",
    "        yhat = model.predict(x_input, verbose=0)\n",
    "        print(\"{} day output {}\".format(i,yhat))\n",
    "        temp_input.extend(yhat[0].tolist())\n",
    "        temp_input=temp_input[1:]\n",
    "        #print(temp_input)\n",
    "        lst_output.extend(yhat.tolist())\n",
    "        i=i+1\n",
    "    else:\n",
    "        x_input = x_input.reshape((1, n_steps,1))\n",
    "        yhat = model.predict(x_input, verbose=0)\n",
    "        print(yhat[0])\n",
    "        temp_input.extend(yhat[0].tolist())\n",
    "        print(len(temp_input))\n",
    "        lst_output.extend(yhat.tolist())\n",
    "        i=i+1\n",
    "    \n",
    "\n",
    "print(lst_output)"
   ]
  },
  {
   "cell_type": "code",
   "execution_count": 32,
   "id": "510fc1d5",
   "metadata": {},
   "outputs": [],
   "source": [
    "day_new=np.arange(1,101)\n",
    "day_pred=np.arange(101,131)"
   ]
  },
  {
   "cell_type": "code",
   "execution_count": 33,
   "id": "ba6049ed",
   "metadata": {},
   "outputs": [],
   "source": [
    "import matplotlib.pyplot as plt"
   ]
  },
  {
   "cell_type": "code",
   "execution_count": 34,
   "id": "3cf60656",
   "metadata": {},
   "outputs": [
    {
     "data": {
      "text/plain": [
       "1258"
      ]
     },
     "execution_count": 34,
     "metadata": {},
     "output_type": "execute_result"
    }
   ],
   "source": [
    "len(df1)"
   ]
  },
  {
   "cell_type": "code",
   "execution_count": 35,
   "id": "7d0525c0",
   "metadata": {},
   "outputs": [
    {
     "data": {
      "text/plain": [
       "441"
      ]
     },
     "execution_count": 35,
     "metadata": {},
     "output_type": "execute_result"
    }
   ],
   "source": [
    "len(lst_output)\n",
    "len(test_data)"
   ]
  },
  {
   "cell_type": "code",
   "execution_count": 40,
   "id": "9ef826d7",
   "metadata": {},
   "outputs": [
    {
     "data": {
      "text/plain": [
       "[<matplotlib.lines.Line2D at 0x22a8eeeb640>]"
      ]
     },
     "execution_count": 40,
     "metadata": {},
     "output_type": "execute_result"
    },
    {
     "data": {
      "image/png": "[encoded data removed]",
      "text/plain": [
       "<Figure size 432x288 with 1 Axes>"
      ]
     },
     "metadata": {
      "needs_background": "light"
     },
     "output_type": "display_data"
    }
   ],
   "source": [
    "plt.plot(day_new,scaler.inverse_transform(df1[1158:]))\n",
    "plt.plot(day_pred,scaler.inverse_transform(lst_output))"
   ]
  },
  {
   "cell_type": "code",
   "execution_count": 41,
   "id": "89de7931",
   "metadata": {},
   "outputs": [],
   "source": [
    "#len(df1[802:]"
   ]
  },
  {
   "cell_type": "code",
   "execution_count": 42,
   "id": "e3b70927",
   "metadata": {},
   "outputs": [
    {
     "data": {
      "text/plain": [
       "[<matplotlib.lines.Line2D at 0x22a91ef2a90>]"
      ]
     },
     "execution_count": 42,
     "metadata": {},
     "output_type": "execute_result"
    },
    {
     "data": {
      "image/png": "[encoded data removed]",
      "text/plain": [
       "<Figure size 432x288 with 1 Axes>"
      ]
     },
     "metadata": {
      "needs_background": "light"
     },
     "output_type": "display_data"
    }
   ],
   "source": [
    "df3=df1.tolist()\n",
    "df3.extend(lst_output)\n",
    "plt.plot(df3[1204:])"
   ]
  },
  {
   "cell_type": "code",
   "execution_count": 43,
   "id": "9f66a7af",
   "metadata": {},
   "outputs": [],
   "source": [
    "df3=scaler.inverse_transform(df3).tolist()"
   ]
  },
  {
   "cell_type": "code",
   "execution_count": 44,
   "id": "2face511",
   "metadata": {},
   "outputs": [
    {
     "data": {
      "text/plain": [
       "[<matplotlib.lines.Line2D at 0x22a91eb8af0>]"
      ]
     },
     "execution_count": 44,
     "metadata": {},
     "output_type": "execute_result"
    },
    {
     "data": {
      "image/png": "[encoded data removed]",
      "text/plain": [
       "<Figure size 432x288 with 1 Axes>"
      ]
     },
     "metadata": {
      "needs_background": "light"
     },
     "output_type": "display_data"
    }
   ],
   "source": [
    "plt.plot(df3)"
   ]
  },
  {
   "cell_type": "code",
   "execution_count": null,
   "id": "04094fd3",
   "metadata": {},
   "outputs": [],
   "source": []
  },
  {
   "cell_type": "code",
   "execution_count": null,
   "id": "29122060",
   "metadata": {},
   "outputs": [],
   "source": []
  }
 ],
 "metadata": {
  "kernelspec": {
   "display_name": "Python 3 (ipykernel)",
   "language": "python",
   "name": "python3"
  },
  "language_info": {
   "codemirror_mode": {
    "name": "ipython",
    "version": 3
   },
   "file_extension": ".py",
   "mimetype": "text/x-python",
   "name": "python",
   "nbconvert_exporter": "python",
   "pygments_lexer": "ipython3",
   "version": "3.9.7"
  }
 },
 "nbformat": 4,
 "nbformat_minor": 5
}
