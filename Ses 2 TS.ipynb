{
 "cells": [
  {
   "cell_type": "code",
   "execution_count": 2,
   "id": "34cd8d42",
   "metadata": {},
   "outputs": [],
   "source": [
    "import pandas_datareader as pdr\n",
    "import pandas as pd\n",
    "from datetime import datetime"
   ]
  },
  {
   "cell_type": "code",
   "execution_count": 3,
   "id": "c5a65bb9",
   "metadata": {},
   "outputs": [],
   "source": [
    "df_ms = pdr.get_data_yahoo('MSFT')"
   ]
  },
  {
   "cell_type": "code",
   "execution_count": 4,
   "id": "bd2e2c04",
   "metadata": {},
   "outputs": [
    {
     "data": {
      "text/html": [
       "<div>\n",
       "<style scoped>\n",
       "    .dataframe tbody tr th:only-of-type {\n",
       "        vertical-align: middle;\n",
       "    }\n",
       "\n",
       "    .dataframe tbody tr th {\n",
       "        vertical-align: top;\n",
       "    }\n",
       "\n",
       "    .dataframe thead th {\n",
       "        text-align: right;\n",
       "    }\n",
       "</style>\n",
       "<table border=\"1\" class=\"dataframe\">\n",
       "  <thead>\n",
       "    <tr style=\"text-align: right;\">\n",
       "      <th></th>\n",
       "      <th>High</th>\n",
       "      <th>Low</th>\n",
       "      <th>Open</th>\n",
       "      <th>Close</th>\n",
       "      <th>Volume</th>\n",
       "      <th>Adj Close</th>\n",
       "    </tr>\n",
       "    <tr>\n",
       "      <th>Date</th>\n",
       "      <th></th>\n",
       "      <th></th>\n",
       "      <th></th>\n",
       "      <th></th>\n",
       "      <th></th>\n",
       "      <th></th>\n",
       "    </tr>\n",
       "  </thead>\n",
       "  <tbody>\n",
       "    <tr>\n",
       "      <th>2017-10-13</th>\n",
       "      <td>77.870003</td>\n",
       "      <td>77.290001</td>\n",
       "      <td>77.589996</td>\n",
       "      <td>77.489998</td>\n",
       "      <td>15335700.0</td>\n",
       "      <td>72.813454</td>\n",
       "    </tr>\n",
       "    <tr>\n",
       "      <th>2017-10-16</th>\n",
       "      <td>77.809998</td>\n",
       "      <td>77.349998</td>\n",
       "      <td>77.419998</td>\n",
       "      <td>77.650002</td>\n",
       "      <td>12380100.0</td>\n",
       "      <td>72.963806</td>\n",
       "    </tr>\n",
       "    <tr>\n",
       "      <th>2017-10-17</th>\n",
       "      <td>77.620003</td>\n",
       "      <td>77.250000</td>\n",
       "      <td>77.470001</td>\n",
       "      <td>77.589996</td>\n",
       "      <td>16824000.0</td>\n",
       "      <td>72.907394</td>\n",
       "    </tr>\n",
       "    <tr>\n",
       "      <th>2017-10-18</th>\n",
       "      <td>77.849998</td>\n",
       "      <td>77.370003</td>\n",
       "      <td>77.669998</td>\n",
       "      <td>77.610001</td>\n",
       "      <td>13300700.0</td>\n",
       "      <td>72.926208</td>\n",
       "    </tr>\n",
       "    <tr>\n",
       "      <th>2017-10-19</th>\n",
       "      <td>77.930000</td>\n",
       "      <td>77.349998</td>\n",
       "      <td>77.570000</td>\n",
       "      <td>77.910004</td>\n",
       "      <td>15092800.0</td>\n",
       "      <td>73.208115</td>\n",
       "    </tr>\n",
       "  </tbody>\n",
       "</table>\n",
       "</div>"
      ],
      "text/plain": [
       "                 High        Low       Open      Close      Volume  Adj Close\n",
       "Date                                                                         \n",
       "2017-10-13  77.870003  77.290001  77.589996  77.489998  15335700.0  72.813454\n",
       "2017-10-16  77.809998  77.349998  77.419998  77.650002  12380100.0  72.963806\n",
       "2017-10-17  77.620003  77.250000  77.470001  77.589996  16824000.0  72.907394\n",
       "2017-10-18  77.849998  77.370003  77.669998  77.610001  13300700.0  72.926208\n",
       "2017-10-19  77.930000  77.349998  77.570000  77.910004  15092800.0  73.208115"
      ]
     },
     "execution_count": 4,
     "metadata": {},
     "output_type": "execute_result"
    }
   ],
   "source": [
    "df_ms.head()"
   ]
  },
  {
   "cell_type": "code",
   "execution_count": 5,
   "id": "6d575392",
   "metadata": {},
   "outputs": [
    {
     "data": {
      "text/plain": [
       "349.6700134277344"
      ]
     },
     "execution_count": 5,
     "metadata": {},
     "output_type": "execute_result"
    }
   ],
   "source": [
    "df_ms['High'].max()"
   ]
  },
  {
   "cell_type": "code",
   "execution_count": 6,
   "id": "2ad69706",
   "metadata": {
    "scrolled": true
   },
   "outputs": [
    {
     "data": {
      "text/html": [
       "<div>\n",
       "<style scoped>\n",
       "    .dataframe tbody tr th:only-of-type {\n",
       "        vertical-align: middle;\n",
       "    }\n",
       "\n",
       "    .dataframe tbody tr th {\n",
       "        vertical-align: top;\n",
       "    }\n",
       "\n",
       "    .dataframe thead th {\n",
       "        text-align: right;\n",
       "    }\n",
       "</style>\n",
       "<table border=\"1\" class=\"dataframe\">\n",
       "  <thead>\n",
       "    <tr style=\"text-align: right;\">\n",
       "      <th></th>\n",
       "      <th>High</th>\n",
       "      <th>Low</th>\n",
       "      <th>Open</th>\n",
       "      <th>Close</th>\n",
       "      <th>Volume</th>\n",
       "      <th>Adj Close</th>\n",
       "    </tr>\n",
       "    <tr>\n",
       "      <th>Date</th>\n",
       "      <th></th>\n",
       "      <th></th>\n",
       "      <th></th>\n",
       "      <th></th>\n",
       "      <th></th>\n",
       "      <th></th>\n",
       "    </tr>\n",
       "  </thead>\n",
       "  <tbody>\n",
       "    <tr>\n",
       "      <th>2017-12-31</th>\n",
       "      <td>87.500000</td>\n",
       "      <td>86.230003</td>\n",
       "      <td>87.120003</td>\n",
       "      <td>86.849998</td>\n",
       "      <td>71066700.0</td>\n",
       "      <td>82.018417</td>\n",
       "    </tr>\n",
       "    <tr>\n",
       "      <th>2018-12-31</th>\n",
       "      <td>116.180000</td>\n",
       "      <td>114.930000</td>\n",
       "      <td>115.419998</td>\n",
       "      <td>115.610001</td>\n",
       "      <td>111242100.0</td>\n",
       "      <td>110.590752</td>\n",
       "    </tr>\n",
       "    <tr>\n",
       "      <th>2019-12-31</th>\n",
       "      <td>159.550003</td>\n",
       "      <td>158.220001</td>\n",
       "      <td>159.449997</td>\n",
       "      <td>158.960007</td>\n",
       "      <td>55636400.0</td>\n",
       "      <td>154.973633</td>\n",
       "    </tr>\n",
       "    <tr>\n",
       "      <th>2020-12-31</th>\n",
       "      <td>232.860001</td>\n",
       "      <td>227.350006</td>\n",
       "      <td>229.270004</td>\n",
       "      <td>231.649994</td>\n",
       "      <td>97012700.0</td>\n",
       "      <td>227.637238</td>\n",
       "    </tr>\n",
       "    <tr>\n",
       "      <th>2021-12-31</th>\n",
       "      <td>349.670013</td>\n",
       "      <td>342.200012</td>\n",
       "      <td>344.619995</td>\n",
       "      <td>343.109985</td>\n",
       "      <td>69870600.0</td>\n",
       "      <td>340.882782</td>\n",
       "    </tr>\n",
       "    <tr>\n",
       "      <th>2022-12-31</th>\n",
       "      <td>338.000000</td>\n",
       "      <td>329.779999</td>\n",
       "      <td>335.350006</td>\n",
       "      <td>334.750000</td>\n",
       "      <td>90428900.0</td>\n",
       "      <td>332.577057</td>\n",
       "    </tr>\n",
       "  </tbody>\n",
       "</table>\n",
       "</div>"
      ],
      "text/plain": [
       "                  High         Low        Open       Close       Volume  \\\n",
       "Date                                                                      \n",
       "2017-12-31   87.500000   86.230003   87.120003   86.849998   71066700.0   \n",
       "2018-12-31  116.180000  114.930000  115.419998  115.610001  111242100.0   \n",
       "2019-12-31  159.550003  158.220001  159.449997  158.960007   55636400.0   \n",
       "2020-12-31  232.860001  227.350006  229.270004  231.649994   97012700.0   \n",
       "2021-12-31  349.670013  342.200012  344.619995  343.109985   69870600.0   \n",
       "2022-12-31  338.000000  329.779999  335.350006  334.750000   90428900.0   \n",
       "\n",
       "             Adj Close  \n",
       "Date                    \n",
       "2017-12-31   82.018417  \n",
       "2018-12-31  110.590752  \n",
       "2019-12-31  154.973633  \n",
       "2020-12-31  227.637238  \n",
       "2021-12-31  340.882782  \n",
       "2022-12-31  332.577057  "
      ]
     },
     "execution_count": 6,
     "metadata": {},
     "output_type": "execute_result"
    }
   ],
   "source": [
    "df_ms.resample(rule='A').max()"
   ]
  },
  {
   "cell_type": "markdown",
   "id": "0d53ff08",
   "metadata": {},
   "source": [
    "Day 2 TimeSeries\n"
   ]
  },
  {
   "cell_type": "code",
   "execution_count": 7,
   "id": "b65be791",
   "metadata": {},
   "outputs": [
    {
     "data": {
      "text/html": [
       "<div>\n",
       "<style scoped>\n",
       "    .dataframe tbody tr th:only-of-type {\n",
       "        vertical-align: middle;\n",
       "    }\n",
       "\n",
       "    .dataframe tbody tr th {\n",
       "        vertical-align: top;\n",
       "    }\n",
       "\n",
       "    .dataframe thead th {\n",
       "        text-align: right;\n",
       "    }\n",
       "</style>\n",
       "<table border=\"1\" class=\"dataframe\">\n",
       "  <thead>\n",
       "    <tr style=\"text-align: right;\">\n",
       "      <th></th>\n",
       "      <th>High</th>\n",
       "      <th>Low</th>\n",
       "      <th>Open</th>\n",
       "      <th>Close</th>\n",
       "      <th>Volume</th>\n",
       "      <th>Adj Close</th>\n",
       "    </tr>\n",
       "    <tr>\n",
       "      <th>Date</th>\n",
       "      <th></th>\n",
       "      <th></th>\n",
       "      <th></th>\n",
       "      <th></th>\n",
       "      <th></th>\n",
       "      <th></th>\n",
       "    </tr>\n",
       "  </thead>\n",
       "  <tbody>\n",
       "    <tr>\n",
       "      <th>2017-10-13</th>\n",
       "      <td>77.870003</td>\n",
       "      <td>77.290001</td>\n",
       "      <td>77.589996</td>\n",
       "      <td>77.489998</td>\n",
       "      <td>15335700.0</td>\n",
       "      <td>72.813454</td>\n",
       "    </tr>\n",
       "    <tr>\n",
       "      <th>2017-10-16</th>\n",
       "      <td>77.809998</td>\n",
       "      <td>77.349998</td>\n",
       "      <td>77.419998</td>\n",
       "      <td>77.650002</td>\n",
       "      <td>12380100.0</td>\n",
       "      <td>72.963806</td>\n",
       "    </tr>\n",
       "    <tr>\n",
       "      <th>2017-10-17</th>\n",
       "      <td>77.620003</td>\n",
       "      <td>77.250000</td>\n",
       "      <td>77.470001</td>\n",
       "      <td>77.589996</td>\n",
       "      <td>16824000.0</td>\n",
       "      <td>72.907394</td>\n",
       "    </tr>\n",
       "    <tr>\n",
       "      <th>2017-10-18</th>\n",
       "      <td>77.849998</td>\n",
       "      <td>77.370003</td>\n",
       "      <td>77.669998</td>\n",
       "      <td>77.610001</td>\n",
       "      <td>13300700.0</td>\n",
       "      <td>72.926208</td>\n",
       "    </tr>\n",
       "    <tr>\n",
       "      <th>2017-10-19</th>\n",
       "      <td>77.930000</td>\n",
       "      <td>77.349998</td>\n",
       "      <td>77.570000</td>\n",
       "      <td>77.910004</td>\n",
       "      <td>15092800.0</td>\n",
       "      <td>73.208115</td>\n",
       "    </tr>\n",
       "    <tr>\n",
       "      <th>...</th>\n",
       "      <td>...</td>\n",
       "      <td>...</td>\n",
       "      <td>...</td>\n",
       "      <td>...</td>\n",
       "      <td>...</td>\n",
       "      <td>...</td>\n",
       "    </tr>\n",
       "    <tr>\n",
       "      <th>2022-10-06</th>\n",
       "      <td>250.339996</td>\n",
       "      <td>246.080002</td>\n",
       "      <td>247.929993</td>\n",
       "      <td>246.789993</td>\n",
       "      <td>20239900.0</td>\n",
       "      <td>246.789993</td>\n",
       "    </tr>\n",
       "    <tr>\n",
       "      <th>2022-10-07</th>\n",
       "      <td>241.320007</td>\n",
       "      <td>233.169998</td>\n",
       "      <td>240.899994</td>\n",
       "      <td>234.240005</td>\n",
       "      <td>37732400.0</td>\n",
       "      <td>234.240005</td>\n",
       "    </tr>\n",
       "    <tr>\n",
       "      <th>2022-10-10</th>\n",
       "      <td>234.559998</td>\n",
       "      <td>226.729996</td>\n",
       "      <td>233.050003</td>\n",
       "      <td>229.250000</td>\n",
       "      <td>29743600.0</td>\n",
       "      <td>229.250000</td>\n",
       "    </tr>\n",
       "    <tr>\n",
       "      <th>2022-10-11</th>\n",
       "      <td>229.059998</td>\n",
       "      <td>224.110001</td>\n",
       "      <td>227.619995</td>\n",
       "      <td>225.410004</td>\n",
       "      <td>30474000.0</td>\n",
       "      <td>225.410004</td>\n",
       "    </tr>\n",
       "    <tr>\n",
       "      <th>2022-10-12</th>\n",
       "      <td>227.860001</td>\n",
       "      <td>223.960007</td>\n",
       "      <td>225.399994</td>\n",
       "      <td>225.750000</td>\n",
       "      <td>21891300.0</td>\n",
       "      <td>225.750000</td>\n",
       "    </tr>\n",
       "  </tbody>\n",
       "</table>\n",
       "<p>1258 rows × 6 columns</p>\n",
       "</div>"
      ],
      "text/plain": [
       "                  High         Low        Open       Close      Volume  \\\n",
       "Date                                                                     \n",
       "2017-10-13   77.870003   77.290001   77.589996   77.489998  15335700.0   \n",
       "2017-10-16   77.809998   77.349998   77.419998   77.650002  12380100.0   \n",
       "2017-10-17   77.620003   77.250000   77.470001   77.589996  16824000.0   \n",
       "2017-10-18   77.849998   77.370003   77.669998   77.610001  13300700.0   \n",
       "2017-10-19   77.930000   77.349998   77.570000   77.910004  15092800.0   \n",
       "...                ...         ...         ...         ...         ...   \n",
       "2022-10-06  250.339996  246.080002  247.929993  246.789993  20239900.0   \n",
       "2022-10-07  241.320007  233.169998  240.899994  234.240005  37732400.0   \n",
       "2022-10-10  234.559998  226.729996  233.050003  229.250000  29743600.0   \n",
       "2022-10-11  229.059998  224.110001  227.619995  225.410004  30474000.0   \n",
       "2022-10-12  227.860001  223.960007  225.399994  225.750000  21891300.0   \n",
       "\n",
       "             Adj Close  \n",
       "Date                    \n",
       "2017-10-13   72.813454  \n",
       "2017-10-16   72.963806  \n",
       "2017-10-17   72.907394  \n",
       "2017-10-18   72.926208  \n",
       "2017-10-19   73.208115  \n",
       "...                ...  \n",
       "2022-10-06  246.789993  \n",
       "2022-10-07  234.240005  \n",
       "2022-10-10  229.250000  \n",
       "2022-10-11  225.410004  \n",
       "2022-10-12  225.750000  \n",
       "\n",
       "[1258 rows x 6 columns]"
      ]
     },
     "execution_count": 7,
     "metadata": {},
     "output_type": "execute_result"
    }
   ],
   "source": [
    "df_ms"
   ]
  },
  {
   "cell_type": "markdown",
   "id": "e2640871",
   "metadata": {},
   "source": [
    "## Simple moving average"
   ]
  },
  {
   "cell_type": "code",
   "execution_count": 8,
   "id": "0334019c",
   "metadata": {},
   "outputs": [
    {
     "data": {
      "text/plain": [
       "<AxesSubplot:xlabel='Date'>"
      ]
     },
     "execution_count": 8,
     "metadata": {},
     "output_type": "execute_result"
    },
    {
     "data": {
      "image/png": "[encoded data removed]",
      "text/plain": [
       "<Figure size 864x360 with 1 Axes>"
      ]
     },
     "metadata": {
      "needs_background": "light"
     },
     "output_type": "display_data"
    }
   ],
   "source": [
    "df_ms['Open'].plot(figsize=(12,5))"
   ]
  },
  {
   "cell_type": "code",
   "execution_count": 9,
   "id": "403e068c",
   "metadata": {},
   "outputs": [],
   "source": [
    "df_ms['Open 10 days roll']=df_ms['Open'].rolling(window=10,min_periods=1).mean()\n",
    "df_ms['Open 30 days roll']=df_ms['Open'].rolling(window=10,min_periods=1).mean()\n",
    "df_ms['Open 50 days roll']=df_ms['Open'].rolling(window=10,min_periods=1).mean()"
   ]
  },
  {
   "cell_type": "code",
   "execution_count": 10,
   "id": "9dafadc1",
   "metadata": {},
   "outputs": [
    {
     "data": {
      "text/plain": [
       "<AxesSubplot:xlabel='Date'>"
      ]
     },
     "execution_count": 10,
     "metadata": {},
     "output_type": "execute_result"
    },
    {
     "data": {
      "image/png": "[encoded data removed]",
      "text/plain": [
       "<Figure size 864x360 with 1 Axes>"
      ]
     },
     "metadata": {
      "needs_background": "light"
     },
     "output_type": "display_data"
    }
   ],
   "source": [
    "#df_ms[['Open','Open 10 days roll']].plot(xlim=['2017-10-08','2018-10-09'],ylim=[60,150],figsize=(12,5))\n",
    "df_ms[['Open','Open 10 days roll','Open 30 days roll','Open 50 days roll']].plot(xlim=['2017-10-09','2018-10-09'],ylim=[60,100],figsize=(12,5))"
   ]
  },
  {
   "cell_type": "code",
   "execution_count": 11,
   "id": "32165029",
   "metadata": {},
   "outputs": [],
   "source": [
    "df_ms=df_ms.drop('Open 10 days roll',axis=1)\n",
    "df_ms=df_ms.drop('Open 30 days roll',axis=1)\n",
    "df_ms=df_ms.drop('Open 50 days roll',axis=1)"
   ]
  },
  {
   "cell_type": "markdown",
   "id": "d9eb1d6c",
   "metadata": {},
   "source": [
    "# Cumulative moving average"
   ]
  },
  {
   "cell_type": "code",
   "execution_count": 12,
   "id": "31ac77f9",
   "metadata": {},
   "outputs": [
    {
     "data": {
      "text/plain": [
       "<AxesSubplot:xlabel='Date'>"
      ]
     },
     "execution_count": 12,
     "metadata": {},
     "output_type": "execute_result"
    },
    {
     "data": {
      "image/png": "[encoded data removed]",
      "text/plain": [
       "<Figure size 720x360 with 1 Axes>"
      ]
     },
     "metadata": {
      "needs_background": "light"
     },
     "output_type": "display_data"
    }
   ],
   "source": [
    "## Expanding\n",
    "\n",
    "df_ms['Open'].expanding().mean().plot(figsize=(10,5))"
   ]
  },
  {
   "cell_type": "markdown",
   "id": "db2b9c47",
   "metadata": {},
   "source": [
    "# EWMA - Exponential Weighted Moving Average"
   ]
  },
  {
   "cell_type": "markdown",
   "id": "73ce0074",
   "metadata": {},
   "source": [
    "ewma(t) = a*x(t) + (1-a)*ewma(t-1)\n",
    "ewma = ((close-prevemwa)*m+prevEwma)"
   ]
  },
  {
   "cell_type": "code",
   "execution_count": 13,
   "id": "aa07f1bf",
   "metadata": {},
   "outputs": [],
   "source": [
    "df_ms['ema']=df_ms['Open'].ewm(alpha=0.1, adjust=False).mean()"
   ]
  },
  {
   "cell_type": "code",
   "execution_count": 16,
   "id": "e46030b0",
   "metadata": {},
   "outputs": [
    {
     "data": {
      "text/plain": [
       "<AxesSubplot:xlabel='Date'>"
      ]
     },
     "execution_count": 16,
     "metadata": {},
     "output_type": "execute_result"
    },
    {
     "data": {
      "image/png": "[encoded data removed]",
      "text/plain": [
       "<Figure size 864x360 with 1 Axes>"
      ]
     },
     "metadata": {
      "needs_background": "light"
     },
     "output_type": "display_data"
    }
   ],
   "source": [
    "df_ms[['Open','ema','ema_0.3']].plot(figsize=(12,5))"
   ]
  },
  {
   "cell_type": "code",
   "execution_count": 15,
   "id": "d4dd0f52",
   "metadata": {},
   "outputs": [],
   "source": [
    "df_ms['ema_0.3']=df_ms['Open'].ewm(alpha=0.3, adjust=False).mean()"
   ]
  },
  {
   "cell_type": "code",
   "execution_count": 23,
   "id": "0c667431",
   "metadata": {},
   "outputs": [],
   "source": [
    "df_ms=df_ms.drop('ema_0.3',axis=1)"
   ]
  },
  {
   "cell_type": "code",
   "execution_count": 24,
   "id": "bdf5cebe",
   "metadata": {},
   "outputs": [
    {
     "data": {
      "text/html": [
       "<div>\n",
       "<style scoped>\n",
       "    .dataframe tbody tr th:only-of-type {\n",
       "        vertical-align: middle;\n",
       "    }\n",
       "\n",
       "    .dataframe tbody tr th {\n",
       "        vertical-align: top;\n",
       "    }\n",
       "\n",
       "    .dataframe thead th {\n",
       "        text-align: right;\n",
       "    }\n",
       "</style>\n",
       "<table border=\"1\" class=\"dataframe\">\n",
       "  <thead>\n",
       "    <tr style=\"text-align: right;\">\n",
       "      <th></th>\n",
       "      <th>High</th>\n",
       "      <th>Low</th>\n",
       "      <th>Open</th>\n",
       "      <th>Close</th>\n",
       "      <th>Volume</th>\n",
       "      <th>Adj Close</th>\n",
       "    </tr>\n",
       "    <tr>\n",
       "      <th>Date</th>\n",
       "      <th></th>\n",
       "      <th></th>\n",
       "      <th></th>\n",
       "      <th></th>\n",
       "      <th></th>\n",
       "      <th></th>\n",
       "    </tr>\n",
       "  </thead>\n",
       "  <tbody>\n",
       "    <tr>\n",
       "      <th>2017-10-13</th>\n",
       "      <td>77.870003</td>\n",
       "      <td>77.290001</td>\n",
       "      <td>77.589996</td>\n",
       "      <td>77.489998</td>\n",
       "      <td>15335700.0</td>\n",
       "      <td>72.813454</td>\n",
       "    </tr>\n",
       "    <tr>\n",
       "      <th>2017-10-16</th>\n",
       "      <td>77.809998</td>\n",
       "      <td>77.349998</td>\n",
       "      <td>77.419998</td>\n",
       "      <td>77.650002</td>\n",
       "      <td>12380100.0</td>\n",
       "      <td>72.963806</td>\n",
       "    </tr>\n",
       "    <tr>\n",
       "      <th>2017-10-17</th>\n",
       "      <td>77.620003</td>\n",
       "      <td>77.250000</td>\n",
       "      <td>77.470001</td>\n",
       "      <td>77.589996</td>\n",
       "      <td>16824000.0</td>\n",
       "      <td>72.907394</td>\n",
       "    </tr>\n",
       "    <tr>\n",
       "      <th>2017-10-18</th>\n",
       "      <td>77.849998</td>\n",
       "      <td>77.370003</td>\n",
       "      <td>77.669998</td>\n",
       "      <td>77.610001</td>\n",
       "      <td>13300700.0</td>\n",
       "      <td>72.926208</td>\n",
       "    </tr>\n",
       "    <tr>\n",
       "      <th>2017-10-19</th>\n",
       "      <td>77.930000</td>\n",
       "      <td>77.349998</td>\n",
       "      <td>77.570000</td>\n",
       "      <td>77.910004</td>\n",
       "      <td>15092800.0</td>\n",
       "      <td>73.208115</td>\n",
       "    </tr>\n",
       "    <tr>\n",
       "      <th>...</th>\n",
       "      <td>...</td>\n",
       "      <td>...</td>\n",
       "      <td>...</td>\n",
       "      <td>...</td>\n",
       "      <td>...</td>\n",
       "      <td>...</td>\n",
       "    </tr>\n",
       "    <tr>\n",
       "      <th>2022-10-06</th>\n",
       "      <td>250.339996</td>\n",
       "      <td>246.080002</td>\n",
       "      <td>247.929993</td>\n",
       "      <td>246.789993</td>\n",
       "      <td>20239900.0</td>\n",
       "      <td>246.789993</td>\n",
       "    </tr>\n",
       "    <tr>\n",
       "      <th>2022-10-07</th>\n",
       "      <td>241.320007</td>\n",
       "      <td>233.169998</td>\n",
       "      <td>240.899994</td>\n",
       "      <td>234.240005</td>\n",
       "      <td>37732400.0</td>\n",
       "      <td>234.240005</td>\n",
       "    </tr>\n",
       "    <tr>\n",
       "      <th>2022-10-10</th>\n",
       "      <td>234.559998</td>\n",
       "      <td>226.729996</td>\n",
       "      <td>233.050003</td>\n",
       "      <td>229.250000</td>\n",
       "      <td>29743600.0</td>\n",
       "      <td>229.250000</td>\n",
       "    </tr>\n",
       "    <tr>\n",
       "      <th>2022-10-11</th>\n",
       "      <td>229.059998</td>\n",
       "      <td>224.110001</td>\n",
       "      <td>227.619995</td>\n",
       "      <td>225.410004</td>\n",
       "      <td>30474000.0</td>\n",
       "      <td>225.410004</td>\n",
       "    </tr>\n",
       "    <tr>\n",
       "      <th>2022-10-12</th>\n",
       "      <td>227.860001</td>\n",
       "      <td>223.960007</td>\n",
       "      <td>225.399994</td>\n",
       "      <td>225.750000</td>\n",
       "      <td>21891300.0</td>\n",
       "      <td>225.750000</td>\n",
       "    </tr>\n",
       "  </tbody>\n",
       "</table>\n",
       "<p>1258 rows × 6 columns</p>\n",
       "</div>"
      ],
      "text/plain": [
       "                  High         Low        Open       Close      Volume  \\\n",
       "Date                                                                     \n",
       "2017-10-13   77.870003   77.290001   77.589996   77.489998  15335700.0   \n",
       "2017-10-16   77.809998   77.349998   77.419998   77.650002  12380100.0   \n",
       "2017-10-17   77.620003   77.250000   77.470001   77.589996  16824000.0   \n",
       "2017-10-18   77.849998   77.370003   77.669998   77.610001  13300700.0   \n",
       "2017-10-19   77.930000   77.349998   77.570000   77.910004  15092800.0   \n",
       "...                ...         ...         ...         ...         ...   \n",
       "2022-10-06  250.339996  246.080002  247.929993  246.789993  20239900.0   \n",
       "2022-10-07  241.320007  233.169998  240.899994  234.240005  37732400.0   \n",
       "2022-10-10  234.559998  226.729996  233.050003  229.250000  29743600.0   \n",
       "2022-10-11  229.059998  224.110001  227.619995  225.410004  30474000.0   \n",
       "2022-10-12  227.860001  223.960007  225.399994  225.750000  21891300.0   \n",
       "\n",
       "             Adj Close  \n",
       "Date                    \n",
       "2017-10-13   72.813454  \n",
       "2017-10-16   72.963806  \n",
       "2017-10-17   72.907394  \n",
       "2017-10-18   72.926208  \n",
       "2017-10-19   73.208115  \n",
       "...                ...  \n",
       "2022-10-06  246.789993  \n",
       "2022-10-07  234.240005  \n",
       "2022-10-10  229.250000  \n",
       "2022-10-11  225.410004  \n",
       "2022-10-12  225.750000  \n",
       "\n",
       "[1258 rows x 6 columns]"
      ]
     },
     "execution_count": 24,
     "metadata": {},
     "output_type": "execute_result"
    }
   ],
   "source": [
    "df_ms"
   ]
  },
  {
   "cell_type": "code",
   "execution_count": 18,
   "id": "eca68134",
   "metadata": {},
   "outputs": [],
   "source": [
    "df_ms['EMA_5']=df_ms['Open'].ewm(span=5).mean()"
   ]
  },
  {
   "cell_type": "code",
   "execution_count": 19,
   "id": "e9dcdef8",
   "metadata": {},
   "outputs": [
    {
     "data": {
      "text/plain": [
       "<AxesSubplot:xlabel='Date'>"
      ]
     },
     "execution_count": 19,
     "metadata": {},
     "output_type": "execute_result"
    },
    {
     "data": {
      "image/png": "[encoded data removed]",
      "text/plain": [
       "<Figure size 864x360 with 1 Axes>"
      ]
     },
     "metadata": {
      "needs_background": "light"
     },
     "output_type": "display_data"
    }
   ],
   "source": [
    "df_ms[['Open','EMA_5']].plot(figsize=(12,5))"
   ]
  },
  {
   "cell_type": "markdown",
   "id": "4540bccf",
   "metadata": {},
   "source": [
    "## ARIMA\n",
    "\n",
    "AR + I + MA\n",
    "\n",
    "AutoRegression\n",
    "Moving Average"
   ]
  },
  {
   "cell_type": "code",
   "execution_count": 25,
   "id": "29946b55",
   "metadata": {},
   "outputs": [
    {
     "data": {
      "text/html": [
       "<div>\n",
       "<style scoped>\n",
       "    .dataframe tbody tr th:only-of-type {\n",
       "        vertical-align: middle;\n",
       "    }\n",
       "\n",
       "    .dataframe tbody tr th {\n",
       "        vertical-align: top;\n",
       "    }\n",
       "\n",
       "    .dataframe thead th {\n",
       "        text-align: right;\n",
       "    }\n",
       "</style>\n",
       "<table border=\"1\" class=\"dataframe\">\n",
       "  <thead>\n",
       "    <tr style=\"text-align: right;\">\n",
       "      <th></th>\n",
       "      <th>High</th>\n",
       "      <th>Low</th>\n",
       "      <th>Open</th>\n",
       "      <th>Close</th>\n",
       "      <th>Volume</th>\n",
       "      <th>Adj Close</th>\n",
       "    </tr>\n",
       "    <tr>\n",
       "      <th>Date</th>\n",
       "      <th></th>\n",
       "      <th></th>\n",
       "      <th></th>\n",
       "      <th></th>\n",
       "      <th></th>\n",
       "      <th></th>\n",
       "    </tr>\n",
       "  </thead>\n",
       "  <tbody>\n",
       "    <tr>\n",
       "      <th>2017-10-13</th>\n",
       "      <td>77.870003</td>\n",
       "      <td>77.290001</td>\n",
       "      <td>77.589996</td>\n",
       "      <td>77.489998</td>\n",
       "      <td>15335700.0</td>\n",
       "      <td>72.813454</td>\n",
       "    </tr>\n",
       "    <tr>\n",
       "      <th>2017-10-16</th>\n",
       "      <td>77.809998</td>\n",
       "      <td>77.349998</td>\n",
       "      <td>77.419998</td>\n",
       "      <td>77.650002</td>\n",
       "      <td>12380100.0</td>\n",
       "      <td>72.963806</td>\n",
       "    </tr>\n",
       "    <tr>\n",
       "      <th>2017-10-17</th>\n",
       "      <td>77.620003</td>\n",
       "      <td>77.250000</td>\n",
       "      <td>77.470001</td>\n",
       "      <td>77.589996</td>\n",
       "      <td>16824000.0</td>\n",
       "      <td>72.907394</td>\n",
       "    </tr>\n",
       "    <tr>\n",
       "      <th>2017-10-18</th>\n",
       "      <td>77.849998</td>\n",
       "      <td>77.370003</td>\n",
       "      <td>77.669998</td>\n",
       "      <td>77.610001</td>\n",
       "      <td>13300700.0</td>\n",
       "      <td>72.926208</td>\n",
       "    </tr>\n",
       "    <tr>\n",
       "      <th>2017-10-19</th>\n",
       "      <td>77.930000</td>\n",
       "      <td>77.349998</td>\n",
       "      <td>77.570000</td>\n",
       "      <td>77.910004</td>\n",
       "      <td>15092800.0</td>\n",
       "      <td>73.208115</td>\n",
       "    </tr>\n",
       "    <tr>\n",
       "      <th>...</th>\n",
       "      <td>...</td>\n",
       "      <td>...</td>\n",
       "      <td>...</td>\n",
       "      <td>...</td>\n",
       "      <td>...</td>\n",
       "      <td>...</td>\n",
       "    </tr>\n",
       "    <tr>\n",
       "      <th>2022-10-06</th>\n",
       "      <td>250.339996</td>\n",
       "      <td>246.080002</td>\n",
       "      <td>247.929993</td>\n",
       "      <td>246.789993</td>\n",
       "      <td>20239900.0</td>\n",
       "      <td>246.789993</td>\n",
       "    </tr>\n",
       "    <tr>\n",
       "      <th>2022-10-07</th>\n",
       "      <td>241.320007</td>\n",
       "      <td>233.169998</td>\n",
       "      <td>240.899994</td>\n",
       "      <td>234.240005</td>\n",
       "      <td>37732400.0</td>\n",
       "      <td>234.240005</td>\n",
       "    </tr>\n",
       "    <tr>\n",
       "      <th>2022-10-10</th>\n",
       "      <td>234.559998</td>\n",
       "      <td>226.729996</td>\n",
       "      <td>233.050003</td>\n",
       "      <td>229.250000</td>\n",
       "      <td>29743600.0</td>\n",
       "      <td>229.250000</td>\n",
       "    </tr>\n",
       "    <tr>\n",
       "      <th>2022-10-11</th>\n",
       "      <td>229.059998</td>\n",
       "      <td>224.110001</td>\n",
       "      <td>227.619995</td>\n",
       "      <td>225.410004</td>\n",
       "      <td>30474000.0</td>\n",
       "      <td>225.410004</td>\n",
       "    </tr>\n",
       "    <tr>\n",
       "      <th>2022-10-12</th>\n",
       "      <td>227.860001</td>\n",
       "      <td>223.960007</td>\n",
       "      <td>225.399994</td>\n",
       "      <td>225.750000</td>\n",
       "      <td>21891300.0</td>\n",
       "      <td>225.750000</td>\n",
       "    </tr>\n",
       "  </tbody>\n",
       "</table>\n",
       "<p>1258 rows × 6 columns</p>\n",
       "</div>"
      ],
      "text/plain": [
       "                  High         Low        Open       Close      Volume  \\\n",
       "Date                                                                     \n",
       "2017-10-13   77.870003   77.290001   77.589996   77.489998  15335700.0   \n",
       "2017-10-16   77.809998   77.349998   77.419998   77.650002  12380100.0   \n",
       "2017-10-17   77.620003   77.250000   77.470001   77.589996  16824000.0   \n",
       "2017-10-18   77.849998   77.370003   77.669998   77.610001  13300700.0   \n",
       "2017-10-19   77.930000   77.349998   77.570000   77.910004  15092800.0   \n",
       "...                ...         ...         ...         ...         ...   \n",
       "2022-10-06  250.339996  246.080002  247.929993  246.789993  20239900.0   \n",
       "2022-10-07  241.320007  233.169998  240.899994  234.240005  37732400.0   \n",
       "2022-10-10  234.559998  226.729996  233.050003  229.250000  29743600.0   \n",
       "2022-10-11  229.059998  224.110001  227.619995  225.410004  30474000.0   \n",
       "2022-10-12  227.860001  223.960007  225.399994  225.750000  21891300.0   \n",
       "\n",
       "             Adj Close  \n",
       "Date                    \n",
       "2017-10-13   72.813454  \n",
       "2017-10-16   72.963806  \n",
       "2017-10-17   72.907394  \n",
       "2017-10-18   72.926208  \n",
       "2017-10-19   73.208115  \n",
       "...                ...  \n",
       "2022-10-06  246.789993  \n",
       "2022-10-07  234.240005  \n",
       "2022-10-10  229.250000  \n",
       "2022-10-11  225.410004  \n",
       "2022-10-12  225.750000  \n",
       "\n",
       "[1258 rows x 6 columns]"
      ]
     },
     "execution_count": 25,
     "metadata": {},
     "output_type": "execute_result"
    }
   ],
   "source": [
    "df_ms"
   ]
  },
  {
   "cell_type": "code",
   "execution_count": 37,
   "id": "acad4529",
   "metadata": {},
   "outputs": [
    {
     "name": "stdout",
     "output_type": "stream",
     "text": [
      "                 Close\n",
      "Date                  \n",
      "2017-10-13   77.489998\n",
      "2017-10-16   77.650002\n",
      "2017-10-17   77.589996\n",
      "2017-10-18   77.610001\n",
      "2017-10-19   77.910004\n",
      "...                ...\n",
      "2022-10-06  246.789993\n",
      "2022-10-07  234.240005\n",
      "2022-10-10  229.250000\n",
      "2022-10-11  225.410004\n",
      "2022-10-12  225.750000\n",
      "\n",
      "[1258 rows x 1 columns]\n"
     ]
    },
    {
     "name": "stderr",
     "output_type": "stream",
     "text": [
      "D:\\Annaconda\\lib\\site-packages\\pandas\\core\\indexing.py:723: SettingWithCopyWarning: \n",
      "A value is trying to be set on a copy of a slice from a DataFrame\n",
      "\n",
      "See the caveats in the documentation: https://pandas.pydata.org/pandas-docs/stable/user_guide/indexing.html#returning-a-view-versus-a-copy\n",
      "  iloc._setitem_with_indexer(indexer, value, self.name)\n"
     ]
    },
    {
     "data": {
      "text/html": [
       "<div>\n",
       "<style scoped>\n",
       "    .dataframe tbody tr th:only-of-type {\n",
       "        vertical-align: middle;\n",
       "    }\n",
       "\n",
       "    .dataframe tbody tr th {\n",
       "        vertical-align: top;\n",
       "    }\n",
       "\n",
       "    .dataframe thead th {\n",
       "        text-align: right;\n",
       "    }\n",
       "</style>\n",
       "<table border=\"1\" class=\"dataframe\">\n",
       "  <thead>\n",
       "    <tr style=\"text-align: right;\">\n",
       "      <th></th>\n",
       "      <th>Close</th>\n",
       "    </tr>\n",
       "    <tr>\n",
       "      <th>Date</th>\n",
       "      <th></th>\n",
       "    </tr>\n",
       "  </thead>\n",
       "  <tbody>\n",
       "    <tr>\n",
       "      <th>2017-10-13 00:00:00</th>\n",
       "      <td>77.489998</td>\n",
       "    </tr>\n",
       "    <tr>\n",
       "      <th>2017-10-16 00:00:00</th>\n",
       "      <td>77.650002</td>\n",
       "    </tr>\n",
       "    <tr>\n",
       "      <th>2017-10-17 00:00:00</th>\n",
       "      <td>77.589996</td>\n",
       "    </tr>\n",
       "    <tr>\n",
       "      <th>2017-10-18 00:00:00</th>\n",
       "      <td>77.610001</td>\n",
       "    </tr>\n",
       "    <tr>\n",
       "      <th>2017-10-19 00:00:00</th>\n",
       "      <td>77.910004</td>\n",
       "    </tr>\n",
       "    <tr>\n",
       "      <th>...</th>\n",
       "      <td>...</td>\n",
       "    </tr>\n",
       "    <tr>\n",
       "      <th>1283</th>\n",
       "      <td>287.695219</td>\n",
       "    </tr>\n",
       "    <tr>\n",
       "      <th>1284</th>\n",
       "      <td>287.788658</td>\n",
       "    </tr>\n",
       "    <tr>\n",
       "      <th>1285</th>\n",
       "      <td>287.872353</td>\n",
       "    </tr>\n",
       "    <tr>\n",
       "      <th>1286</th>\n",
       "      <td>287.954497</td>\n",
       "    </tr>\n",
       "    <tr>\n",
       "      <th>1287</th>\n",
       "      <td>288.031386</td>\n",
       "    </tr>\n",
       "  </tbody>\n",
       "</table>\n",
       "<p>1288 rows × 1 columns</p>\n",
       "</div>"
      ],
      "text/plain": [
       "                          Close\n",
       "Date                           \n",
       "2017-10-13 00:00:00   77.489998\n",
       "2017-10-16 00:00:00   77.650002\n",
       "2017-10-17 00:00:00   77.589996\n",
       "2017-10-18 00:00:00   77.610001\n",
       "2017-10-19 00:00:00   77.910004\n",
       "...                         ...\n",
       "1283                 287.695219\n",
       "1284                 287.788658\n",
       "1285                 287.872353\n",
       "1286                 287.954497\n",
       "1287                 288.031386\n",
       "\n",
       "[1288 rows x 1 columns]"
      ]
     },
     "execution_count": 37,
     "metadata": {},
     "output_type": "execute_result"
    }
   ],
   "source": [
    "df_close = df_ms[['Close']]\n",
    "print(df_close)\n",
    "for i in range(0,30):\n",
    "    x=df_close.tail(365).mean()\n",
    "    df_close.loc[len(df_close.index)]=x\n",
    "    \n",
    "df_close"
   ]
  },
  {
   "cell_type": "code",
   "execution_count": 39,
   "id": "ca8de4be",
   "metadata": {},
   "outputs": [
    {
     "data": {
      "text/plain": [
       "<AxesSubplot:xlabel='Date'>"
      ]
     },
     "execution_count": 39,
     "metadata": {},
     "output_type": "execute_result"
    },
    {
     "data": {
      "image/png": "[encoded data removed]",
      "text/plain": [
       "<Figure size 1080x576 with 1 Axes>"
      ]
     },
     "metadata": {
      "needs_background": "light"
     },
     "output_type": "display_data"
    }
   ],
   "source": [
    "df_close.plot(figsize=(15,8))"
   ]
  },
  {
   "cell_type": "code",
   "execution_count": null,
   "id": "aa8a3a4e",
   "metadata": {},
   "outputs": [],
   "source": []
  }
 ],
 "metadata": {
  "kernelspec": {
   "display_name": "Python 3 (ipykernel)",
   "language": "python",
   "name": "python3"
  },
  "language_info": {
   "codemirror_mode": {
    "name": "ipython",
    "version": 3
   },
   "file_extension": ".py",
   "mimetype": "text/x-python",
   "name": "python",
   "nbconvert_exporter": "python",
   "pygments_lexer": "ipython3",
   "version": "3.9.7"
  }
 },
 "nbformat": 4,
 "nbformat_minor": 5
}
